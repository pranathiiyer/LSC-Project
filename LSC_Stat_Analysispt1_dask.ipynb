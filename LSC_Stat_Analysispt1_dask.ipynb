{
 "cells": [
  {
   "cell_type": "markdown",
   "id": "f878e6b6",
   "metadata": {},
   "source": [
    "### Importing libraries"
   ]
  },
  {
   "cell_type": "code",
   "execution_count": 1,
   "id": "bf8679a5",
   "metadata": {},
   "outputs": [
    {
     "name": "stderr",
     "output_type": "stream",
     "text": [
      "/home/hadoop/miniconda/lib/python3.8/site-packages/dask_yarn/core.py:16: FutureWarning: format_bytes is deprecated and will be removed in a future release. Please use dask.utils.format_bytes instead.\n",
      "  from distributed.utils import (\n",
      "/home/hadoop/miniconda/lib/python3.8/site-packages/dask_yarn/core.py:16: FutureWarning: parse_timedelta is deprecated and will be removed in a future release. Please use dask.utils.parse_timedelta instead.\n",
      "  from distributed.utils import (\n"
     ]
    }
   ],
   "source": [
    "from dask_yarn import YarnCluster\n",
    "from dask.distributed import Client"
   ]
  },
  {
   "cell_type": "markdown",
   "id": "440e0ea2",
   "metadata": {},
   "source": [
    "### Setting up client on dask cluster"
   ]
  },
  {
   "cell_type": "code",
   "execution_count": 2,
   "id": "1af043f4",
   "metadata": {},
   "outputs": [
    {
     "name": "stderr",
     "output_type": "stream",
     "text": [
      "distributed.scheduler - INFO - Clear task state\n",
      "distributed.scheduler - INFO -   Scheduler at:  tcp://172.31.25.112:8786\n",
      "distributed.scheduler - INFO -   dashboard at:                    :39543\n",
      "22/06/03 15:58:51 WARN util.NativeCodeLoader: Unable to load native-hadoop library for your platform... using builtin-java classes where applicable\n",
      "22/06/03 15:58:52 INFO client.RMProxy: Connecting to ResourceManager at ip-172-31-25-112.ec2.internal/172.31.25.112:8032\n",
      "22/06/03 15:58:53 INFO client.AHSProxy: Connecting to Application History server at ip-172-31-25-112.ec2.internal/172.31.25.112:10200\n",
      "22/06/03 15:58:53 INFO skein.Driver: Driver started, listening on 41467\n",
      "22/06/03 15:58:53 INFO conf.Configuration: resource-types.xml not found\n",
      "22/06/03 15:58:53 INFO resource.ResourceUtils: Unable to find 'resource-types.xml'.\n",
      "22/06/03 15:58:54 INFO skein.Driver: Uploading application resources to hdfs://ip-172-31-25-112.ec2.internal:8020/user/hadoop/.skein/application_1654271317377_0001\n",
      "22/06/03 15:58:57 INFO skein.Driver: Submitting application...\n",
      "22/06/03 15:58:57 INFO impl.YarnClientImpl: Submitted application application_1654271317377_0001\n",
      "distributed.scheduler - INFO - Receive client connection: Client-166ffc55-e356-11ec-8e53-0a978aeeac33\n",
      "distributed.core - INFO - Starting established connection\n",
      "distributed.scheduler - INFO - Register worker <WorkerState 'tcp://172.31.28.136:36785', name: dask.worker_3, memory: 0, processing: 0>\n",
      "distributed.scheduler - INFO - Starting worker compute stream, tcp://172.31.28.136:36785\n",
      "distributed.core - INFO - Starting established connection\n",
      "distributed.scheduler - INFO - Register worker <WorkerState 'tcp://172.31.29.106:40315', name: dask.worker_5, memory: 0, processing: 0>\n",
      "distributed.scheduler - INFO - Starting worker compute stream, tcp://172.31.29.106:40315\n",
      "distributed.core - INFO - Starting established connection\n",
      "distributed.scheduler - INFO - Register worker <WorkerState 'tcp://172.31.29.106:41537', name: dask.worker_0, memory: 0, processing: 0>\n",
      "distributed.scheduler - INFO - Starting worker compute stream, tcp://172.31.29.106:41537\n",
      "distributed.core - INFO - Starting established connection\n",
      "distributed.scheduler - INFO - Register worker <WorkerState 'tcp://172.31.28.136:44111', name: dask.worker_7, memory: 0, processing: 0>\n",
      "distributed.scheduler - INFO - Starting worker compute stream, tcp://172.31.28.136:44111\n",
      "distributed.core - INFO - Starting established connection\n",
      "distributed.scheduler - INFO - Register worker <WorkerState 'tcp://172.31.29.106:38061', name: dask.worker_1, memory: 0, processing: 0>\n",
      "distributed.scheduler - INFO - Starting worker compute stream, tcp://172.31.29.106:38061\n",
      "distributed.core - INFO - Starting established connection\n",
      "distributed.scheduler - INFO - Register worker <WorkerState 'tcp://172.31.29.106:42985', name: dask.worker_4, memory: 0, processing: 0>\n",
      "distributed.scheduler - INFO - Starting worker compute stream, tcp://172.31.29.106:42985\n",
      "distributed.core - INFO - Starting established connection\n",
      "distributed.scheduler - INFO - Register worker <WorkerState 'tcp://172.31.28.136:39909', name: dask.worker_6, memory: 0, processing: 0>\n",
      "distributed.scheduler - INFO - Starting worker compute stream, tcp://172.31.28.136:39909\n",
      "distributed.core - INFO - Starting established connection\n",
      "distributed.scheduler - INFO - Register worker <WorkerState 'tcp://172.31.28.136:38817', name: dask.worker_2, memory: 0, processing: 0>\n",
      "distributed.scheduler - INFO - Starting worker compute stream, tcp://172.31.28.136:38817\n",
      "distributed.core - INFO - Starting established connection\n"
     ]
    }
   ],
   "source": [
    "# Create a cluster where each worker has 1 vCPU core and 2 GiB of memory:\n",
    "# workers ~ processes, worker_vcores ~ threads\n",
    "cluster = YarnCluster(environment=\"/home/hadoop/environment.tar.gz\",\n",
    "                      worker_vcores = 1,\n",
    "                      worker_memory = \"2GiB\"\n",
    "                      )\n",
    "\n",
    "# Scale cluster out to 8 such workers:\n",
    "cluster.scale(8)\n",
    "\n",
    "# Connect to the cluster (before proceeding, you should wait for workers to be registered by the dask scheduler, as below):\n",
    "client = Client(cluster)"
   ]
  },
  {
   "cell_type": "code",
   "execution_count": 3,
   "id": "cc9f2eca",
   "metadata": {},
   "outputs": [
    {
     "name": "stderr",
     "output_type": "stream",
     "text": [
      "/home/hadoop/miniconda/lib/python3.8/site-packages/dask/dataframe/backends.py:187: FutureWarning: pandas.Int64Index is deprecated and will be removed from pandas in a future version. Use pandas.Index with the appropriate dtype instead.\n",
      "  _numeric_index_types = (pd.Int64Index, pd.Float64Index, pd.UInt64Index)\n",
      "/home/hadoop/miniconda/lib/python3.8/site-packages/dask/dataframe/backends.py:187: FutureWarning: pandas.Float64Index is deprecated and will be removed from pandas in a future version. Use pandas.Index with the appropriate dtype instead.\n",
      "  _numeric_index_types = (pd.Int64Index, pd.Float64Index, pd.UInt64Index)\n",
      "/home/hadoop/miniconda/lib/python3.8/site-packages/dask/dataframe/backends.py:187: FutureWarning: pandas.UInt64Index is deprecated and will be removed from pandas in a future version. Use pandas.Index with the appropriate dtype instead.\n",
      "  _numeric_index_types = (pd.Int64Index, pd.Float64Index, pd.UInt64Index)\n"
     ]
    }
   ],
   "source": [
    "import dask.dataframe as dd"
   ]
  },
  {
   "cell_type": "markdown",
   "id": "ba5130ab",
   "metadata": {},
   "source": [
    "### Reading in classified sentiments of posts from s3 bucket"
   ]
  },
  {
   "cell_type": "code",
   "execution_count": 12,
   "id": "e60f218f",
   "metadata": {},
   "outputs": [],
   "source": [
    "df = dd.read_csv('s3://pranathi-sentiment/final_classification.csv')"
   ]
  },
  {
   "cell_type": "code",
   "execution_count": 8,
   "id": "8106ed02",
   "metadata": {},
   "outputs": [],
   "source": [
    "def transform(x):\n",
    "    if x =='neutral':\n",
    "        return 0\n",
    "    elif x=='positive':\n",
    "        return 1\n",
    "    else:\n",
    "        return -1"
   ]
  },
  {
   "cell_type": "markdown",
   "id": "b12cc23d",
   "metadata": {},
   "source": [
    "### Transforming categorical data (sentiment)"
   ]
  },
  {
   "cell_type": "code",
   "execution_count": 13,
   "id": "1f734788",
   "metadata": {},
   "outputs": [],
   "source": [
    "df['class']= df['class'].apply(transform, meta=('class', 'int64'))"
   ]
  },
  {
   "cell_type": "code",
   "execution_count": 15,
   "id": "0a47d22d",
   "metadata": {},
   "outputs": [],
   "source": [
    "final_df = df.groupby('date').mean()\n",
    "                                                       "
   ]
  },
  {
   "cell_type": "markdown",
   "id": "f461abe8",
   "metadata": {},
   "source": [
    "### Reading in data with historical S&P index performance"
   ]
  },
  {
   "cell_type": "code",
   "execution_count": 19,
   "id": "2aacbb50",
   "metadata": {},
   "outputs": [],
   "source": [
    "df_1 = dd.read_csv('s3://pranathi-sentiment/Historical_S&p.csv')\n",
    "df_1['change'] = (df_1['Close/Last'] - df_1['Open'])/df_1['Open']"
   ]
  },
  {
   "cell_type": "markdown",
   "id": "2c3bf27c",
   "metadata": {},
   "source": [
    "### Converting date format from epoch to YYYY-MM-DD so that both sources of data can be merged"
   ]
  },
  {
   "cell_type": "code",
   "execution_count": 21,
   "id": "72fa135f",
   "metadata": {},
   "outputs": [],
   "source": [
    "import time\n",
    "\n",
    "#df['conv_date'] = df['Date'].apply(lambda x: time.strftime(\"%Y-%m-%d \", time.gmtime(x)))\n",
    "df_1['Date'] = dd.to_datetime(df_1['Date']).dt.strftime('%Y-%m-%d ')"
   ]
  },
  {
   "cell_type": "code",
   "execution_count": 24,
   "id": "0cfc443f",
   "metadata": {},
   "outputs": [],
   "source": [
    "df_11 = df_1.rename(columns = {'Date':'date'})"
   ]
  },
  {
   "cell_type": "code",
   "execution_count": 26,
   "id": "9324987a",
   "metadata": {},
   "outputs": [],
   "source": [
    "final_corr_df = dd.merge(final_df, df_11, how = 'inner', on = 'date')"
   ]
  },
  {
   "cell_type": "markdown",
   "id": "cff44f96",
   "metadata": {},
   "source": [
    "### Computing correlation"
   ]
  },
  {
   "cell_type": "code",
   "execution_count": 34,
   "id": "d8cd3fe5",
   "metadata": {},
   "outputs": [
    {
     "data": {
      "text/html": [
       "<div>\n",
       "<style scoped>\n",
       "    .dataframe tbody tr th:only-of-type {\n",
       "        vertical-align: middle;\n",
       "    }\n",
       "\n",
       "    .dataframe tbody tr th {\n",
       "        vertical-align: top;\n",
       "    }\n",
       "\n",
       "    .dataframe thead th {\n",
       "        text-align: right;\n",
       "    }\n",
       "</style>\n",
       "<table border=\"1\" class=\"dataframe\">\n",
       "  <thead>\n",
       "    <tr style=\"text-align: right;\">\n",
       "      <th></th>\n",
       "      <th>class</th>\n",
       "      <th>Close/Last</th>\n",
       "      <th>Open</th>\n",
       "      <th>High</th>\n",
       "      <th>Low</th>\n",
       "      <th>change</th>\n",
       "    </tr>\n",
       "  </thead>\n",
       "  <tbody>\n",
       "    <tr>\n",
       "      <th>class</th>\n",
       "      <td>1.000000</td>\n",
       "      <td>0.145916</td>\n",
       "      <td>0.134878</td>\n",
       "      <td>0.130522</td>\n",
       "      <td>0.157379</td>\n",
       "      <td>0.047939</td>\n",
       "    </tr>\n",
       "    <tr>\n",
       "      <th>Close/Last</th>\n",
       "      <td>0.145916</td>\n",
       "      <td>1.000000</td>\n",
       "      <td>0.974340</td>\n",
       "      <td>0.985957</td>\n",
       "      <td>0.988799</td>\n",
       "      <td>0.121523</td>\n",
       "    </tr>\n",
       "    <tr>\n",
       "      <th>Open</th>\n",
       "      <td>0.134878</td>\n",
       "      <td>0.974340</td>\n",
       "      <td>1.000000</td>\n",
       "      <td>0.991986</td>\n",
       "      <td>0.987067</td>\n",
       "      <td>-0.104782</td>\n",
       "    </tr>\n",
       "    <tr>\n",
       "      <th>High</th>\n",
       "      <td>0.130522</td>\n",
       "      <td>0.985957</td>\n",
       "      <td>0.991986</td>\n",
       "      <td>1.000000</td>\n",
       "      <td>0.984710</td>\n",
       "      <td>-0.017446</td>\n",
       "    </tr>\n",
       "    <tr>\n",
       "      <th>Low</th>\n",
       "      <td>0.157379</td>\n",
       "      <td>0.988799</td>\n",
       "      <td>0.987067</td>\n",
       "      <td>0.984710</td>\n",
       "      <td>1.000000</td>\n",
       "      <td>0.015769</td>\n",
       "    </tr>\n",
       "    <tr>\n",
       "      <th>change</th>\n",
       "      <td>0.047939</td>\n",
       "      <td>0.121523</td>\n",
       "      <td>-0.104782</td>\n",
       "      <td>-0.017446</td>\n",
       "      <td>0.015769</td>\n",
       "      <td>1.000000</td>\n",
       "    </tr>\n",
       "  </tbody>\n",
       "</table>\n",
       "</div>"
      ],
      "text/plain": [
       "               class  Close/Last      Open      High       Low    change\n",
       "class       1.000000    0.145916  0.134878  0.130522  0.157379  0.047939\n",
       "Close/Last  0.145916    1.000000  0.974340  0.985957  0.988799  0.121523\n",
       "Open        0.134878    0.974340  1.000000  0.991986  0.987067 -0.104782\n",
       "High        0.130522    0.985957  0.991986  1.000000  0.984710 -0.017446\n",
       "Low         0.157379    0.988799  0.987067  0.984710  1.000000  0.015769\n",
       "change      0.047939    0.121523 -0.104782 -0.017446  0.015769  1.000000"
      ]
     },
     "execution_count": 34,
     "metadata": {},
     "output_type": "execute_result"
    }
   ],
   "source": [
    "final_corr_df.corr(method = 'pearson', split_every = False).compute()"
   ]
  },
  {
   "cell_type": "code",
   "execution_count": 39,
   "id": "84fef344",
   "metadata": {},
   "outputs": [],
   "source": [
    "final_corr_df = final_corr_df.compute()"
   ]
  },
  {
   "cell_type": "markdown",
   "id": "427803a9",
   "metadata": {},
   "source": [
    "### Plotting change in S&P index against average sentiment of posts per day"
   ]
  },
  {
   "cell_type": "code",
   "execution_count": 43,
   "id": "339bf897",
   "metadata": {},
   "outputs": [
    {
     "data": {
      "image/png": "[encoded data removed]",
      "text/plain": [
       "<Figure size 432x288 with 1 Axes>"
      ]
     },
     "metadata": {
      "needs_background": "light"
     },
     "output_type": "display_data"
    }
   ],
   "source": [
    "import matplotlib.pyplot as plt\n",
    "final_corr_df.plot(x = 'date', y = ['change', 'class'], kind = 'line')\n",
    "plt.title('Change in S&P index in a day and average sentiment on WSB per day')\n",
    "plt.legend(['Change in S&P index', 'Sentiment'])\n",
    "plt.xlabel('days')\n",
    "plt.show()"
   ]
  },
  {
   "cell_type": "code",
   "execution_count": null,
   "id": "7d36f271",
   "metadata": {},
   "outputs": [],
   "source": []
  }
 ],
 "metadata": {
  "kernelspec": {
   "display_name": "Python 3 (ipykernel)",
   "language": "python",
   "name": "python3"
  },
  "language_info": {
   "codemirror_mode": {
    "name": "ipython",
    "version": 3
   },
   "file_extension": ".py",
   "mimetype": "text/x-python",
   "name": "python",
   "nbconvert_exporter": "python",
   "pygments_lexer": "ipython3",
   "version": "3.9.12"
  }
 },
 "nbformat": 4,
 "nbformat_minor": 5
}
