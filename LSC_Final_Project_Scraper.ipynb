{
 "cells": [
  {
   "cell_type": "markdown",
   "id": "4b7e8bb8",
   "metadata": {},
   "source": [
    "# Web Scraper for r/wallstreetbets\n",
    "\n",
    "I largely follow the same workflow as in Assignment 2."
   ]
  },
  {
   "cell_type": "code",
   "execution_count": 1,
   "id": "8173b929",
   "metadata": {},
   "outputs": [],
   "source": [
    "import boto3\n",
    "import requests\n",
    "import datetime\n",
    "import mysql.connector\n",
    "import json\n",
    "import csv\n",
    "import os\n",
    "import pandas as pd\n",
    "import fastparquet"
   ]
  },
  {
   "cell_type": "markdown",
   "id": "990dd337",
   "metadata": {},
   "source": [
    "## Create RDS"
   ]
  },
  {
   "cell_type": "code",
   "execution_count": 2,
   "id": "019d7700",
   "metadata": {},
   "outputs": [
    {
     "name": "stdout",
     "output_type": "stream",
     "text": [
      "DB already exists\n",
      "relational-db is available at relational-db.cpwt7pwqqywi.us-east-1.rds.amazonaws.com on Port 3306\n"
     ]
    }
   ],
   "source": [
    "# Create RDS on AWS\n",
    "rds = boto3.client(\"rds\", region_name=\"us-east-1\")\n",
    "\n",
    "try:\n",
    "    response = rds.create_db_instance(DBInstanceIdentifier='relational-db',\n",
    "                                      DBName='wsb_rds',\n",
    "                                      MasterUsername='username',\n",
    "                                      MasterUserPassword='password',\n",
    "                                      DBInstanceClass='db.t2.micro',\n",
    "                                      Engine='MySQL',\n",
    "                                      AllocatedStorage=5)\n",
    "except:\n",
    "    print(\"DB already exists\")\n",
    "\n",
    "# Wait until db is ready to continue\n",
    "rds.get_waiter('db_instance_available').wait(DBInstanceIdentifier=\"relational-db\")\n",
    "\n",
    "# Get relevant information about db\n",
    "db = rds.describe_db_instances()['DBInstances'][0]\n",
    "ENDPOINT = db['Endpoint']['Address']\n",
    "PORT = db['Endpoint']['Port']\n",
    "DBID = db['DBInstanceIdentifier']\n",
    "\n",
    "# Check DB is available\n",
    "print(DBID,\n",
    "      \"is available at\", ENDPOINT,\n",
    "      \"on Port\", PORT)  "
   ]
  },
  {
   "cell_type": "code",
   "execution_count": 3,
   "id": "7df3aabe",
   "metadata": {},
   "outputs": [
    {
     "name": "stdout",
     "output_type": "stream",
     "text": [
      "Permissions already adjusted.\n"
     ]
    }
   ],
   "source": [
    "# edit security settings\n",
    "SGNAME = db['VpcSecurityGroups'][0]['VpcSecurityGroupId']\n",
    "\n",
    "# Adjust Permissions for that security group so that we can access it on Port 3306\n",
    "# If already SG is already adjusted, print this out\n",
    "try:\n",
    "    ec2 = boto3.client('ec2', region_name=\"us-east-1\")\n",
    "    data = ec2.authorize_security_group_ingress(\n",
    "            GroupId=SGNAME,\n",
    "            IpPermissions=[\n",
    "                {'IpProtocol': 'tcp',\n",
    "                 'FromPort': PORT,\n",
    "                 'ToPort': PORT,\n",
    "                 'IpRanges': [{'CidrIp': '0.0.0.0/0'}]}\n",
    "            ]\n",
    "    )\n",
    "except ec2.exceptions.ClientError as e:\n",
    "    if e.response[\"Error\"][\"Code\"] == 'InvalidPermission.Duplicate':\n",
    "        print(\"Permissions already adjusted.\")\n",
    "    else:\n",
    "        print(e)"
   ]
  },
  {
   "cell_type": "code",
   "execution_count": 72,
   "id": "73cac4cb",
   "metadata": {},
   "outputs": [],
   "source": [
    "# launch connection\n",
    "conn =  mysql.connector.connect(host=ENDPOINT, user=\"username\", passwd=\"password\", port=PORT, database=\"wsb_rds\")\n",
    "cur = conn.cursor()"
   ]
  },
  {
   "cell_type": "markdown",
   "id": "63283f2a",
   "metadata": {},
   "source": [
    "## Create Table to store Scraped Data"
   ]
  },
  {
   "cell_type": "code",
   "execution_count": 5,
   "id": "cbc06415",
   "metadata": {},
   "outputs": [],
   "source": [
    "# create table\n",
    "create_wsb_table = \"\"\" \n",
    "                        CREATE TABLE IF NOT EXISTS wsb_posts (\n",
    "                            link TEXT,\n",
    "                            title TEXT,\n",
    "                            text TEXT,\n",
    "                            author TEXT,\n",
    "                            category TEXT,\n",
    "                            n_comments INT,\n",
    "                            upvotes INT,\n",
    "                            upvote_ratio INT,\n",
    "                            n_awards INT,\n",
    "                            date INT,\n",
    "                            PRIMARY KEY (date)\n",
    "                            )\n",
    "                        \"\"\"\n",
    "for op in [create_wsb_table]:\n",
    "    cur.execute(op)"
   ]
  },
  {
   "cell_type": "markdown",
   "id": "6c2cc2b2",
   "metadata": {},
   "source": [
    "## Create Lambda Function"
   ]
  },
  {
   "cell_type": "code",
   "execution_count": 61,
   "id": "66bda278",
   "metadata": {},
   "outputs": [
    {
     "name": "stdout",
     "output_type": "stream",
     "text": [
      "Lambda successfully updated\n"
     ]
    }
   ],
   "source": [
    "# create lambda function\n",
    "# Create Lambda client\n",
    "aws_lambda = boto3.client('lambda', region_name=\"us-east-1\")\n",
    "\n",
    "# Access our class IAM role, which allows Lambda\n",
    "# to interact with other AWS resources\n",
    "iam_client = boto3.client('iam', region_name=\"us-east-1\")\n",
    "role = iam_client.get_role(RoleName='LabRole')\n",
    "\n",
    "# Read pyfile\n",
    "with open(\"wsb_lambda.zip\", \"rb\") as f:\n",
    "    lambda_file = f.read()\n",
    "\n",
    "# Create lambda function\n",
    "try:\n",
    "    response = aws_lambda.create_function(FunctionName=\"wsb_lambda\",\n",
    "                                          Runtime='python3.9',\n",
    "                                          Role=role['Role']['Arn'],\n",
    "                                          Handler='wsb_lambda.lambda_handler',\n",
    "                                          Code=dict(ZipFile=lambda_file),\n",
    "                                          Timeout=300)\n",
    "except aws_lambda.exceptions.ResourceConflictException:\n",
    "    # If function already exists, update it based on zip\n",
    "    # file contents\n",
    "    response = aws_lambda.update_function_code(\n",
    "    FunctionName=\"wsb_lambda\",\n",
    "    ZipFile=lambda_file)\n",
    "    print(\"Lambda successfully updated\")"
   ]
  },
  {
   "cell_type": "markdown",
   "id": "70f1d418",
   "metadata": {},
   "source": [
    "## Generate List of URLs to Scrape"
   ]
  },
  {
   "cell_type": "code",
   "execution_count": 8,
   "id": "0254d566",
   "metadata": {},
   "outputs": [],
   "source": [
    "# List of urls to scrape\n",
    "start = datetime.datetime.strptime(\"24-05-2021\", \"%d-%m-%Y\")\n",
    "end = datetime.datetime.strptime(\"30-05-2022\", \"%d-%m-%Y\")\n",
    "date_generated = [start + datetime.timedelta(days=x) for x in range(0, (end-start).days)]\n",
    "url_list = []\n",
    "for idx, date in enumerate(date_generated):\n",
    "    if idx < len(date_generated) - 1:\n",
    "        before_date = date_generated[idx + 1].strftime(\"%Y-%m-%d\")\n",
    "        after_date = date_generated[idx].strftime(\"%Y-%m-%d\")\n",
    "        url = f\"https://api.pushshift.io/reddit/submission/search/?subreddit=wallstreetbets&after={after_date}&before={before_date}&size=500&sort_type=score\"\n",
    "        url_list.append(url)"
   ]
  },
  {
   "cell_type": "markdown",
   "id": "e713f7ce",
   "metadata": {},
   "source": [
    "## Split into Batches"
   ]
  },
  {
   "cell_type": "code",
   "execution_count": 68,
   "id": "00a82677",
   "metadata": {},
   "outputs": [],
   "source": [
    "# split urls into batches\n",
    "n = len(url_list) // 10 # subdivide list of ISBNs into 10 equal batches\n",
    "url_batches = [{'url_list': url_list[i:i + n]} for i in range(0, len(url_list), n)]"
   ]
  },
  {
   "cell_type": "code",
   "execution_count": 69,
   "id": "323b65eb",
   "metadata": {},
   "outputs": [
    {
     "data": {
      "text/plain": [
       "10"
      ]
     },
     "execution_count": 69,
     "metadata": {},
     "output_type": "execute_result"
    }
   ],
   "source": [
    "len(url_batches)"
   ]
  },
  {
   "cell_type": "markdown",
   "id": "2d19e241",
   "metadata": {},
   "source": [
    "## Create Step Function"
   ]
  },
  {
   "cell_type": "code",
   "execution_count": 29,
   "id": "53002452",
   "metadata": {},
   "outputs": [],
   "source": [
    "# setup step function\n",
    "!python \"wsb_sfn.py\""
   ]
  },
  {
   "cell_type": "code",
   "execution_count": 30,
   "id": "94c49b7d",
   "metadata": {},
   "outputs": [
    {
     "name": "stdout",
     "output_type": "stream",
     "text": [
      "{'stateMachines': [{'stateMachineArn': 'arn:aws:states:us-east-1:227666994724:stateMachine:wsb_sfn', 'name': 'wsb_sfn', 'type': 'EXPRESS', 'creationDate': datetime.datetime(2022, 5, 31, 9, 21, 16, 82000, tzinfo=tzlocal())}], 'ResponseMetadata': {'RequestId': 'ea1cb01c-b5f4-44f5-b989-f346a6aa3884', 'HTTPStatusCode': 200, 'HTTPHeaders': {'x-amzn-requestid': 'ea1cb01c-b5f4-44f5-b989-f346a6aa3884', 'date': 'Tue, 31 May 2022 14:21:18 GMT', 'content-type': 'application/x-amz-json-1.0', 'content-length': '166'}, 'RetryAttempts': 0}}\n"
     ]
    }
   ],
   "source": [
    "# View state machine\n",
    "sfn = boto3.client('stepfunctions', region_name=\"us-east-1\")\n",
    "response = sfn.list_state_machines()\n",
    "print(response)"
   ]
  },
  {
   "cell_type": "markdown",
   "id": "eb61ba32",
   "metadata": {},
   "source": [
    "## Split Batches Across Lambda Workers with Step Function"
   ]
  },
  {
   "cell_type": "code",
   "execution_count": 70,
   "id": "5641cc47",
   "metadata": {},
   "outputs": [],
   "source": [
    "# run scraper\n",
    "\n",
    "# Get arn for Step Function state machine\n",
    "response = sfn.list_state_machines()\n",
    "state_machine_arn = [sm['stateMachineArn'] \n",
    "                     for sm in response['stateMachines'] \n",
    "                     if sm['name'] == 'wsb_sfn'][0]\n",
    "\n",
    "# Spread URL batches across Lambda workers\n",
    "response = sfn.start_sync_execution(\n",
    "    stateMachineArn=state_machine_arn,\n",
    "    name=\"wsb_sfn\",\n",
    "    input=json.dumps(url_batches))"
   ]
  },
  {
   "cell_type": "markdown",
   "id": "a15c68cf",
   "metadata": {},
   "source": [
    "## View Number of Posts Scraped"
   ]
  },
  {
   "cell_type": "code",
   "execution_count": 73,
   "id": "f9a0bd66",
   "metadata": {},
   "outputs": [
    {
     "data": {
      "text/plain": [
       "10537"
      ]
     },
     "execution_count": 73,
     "metadata": {},
     "output_type": "execute_result"
    }
   ],
   "source": [
    "cur.execute('''SELECT * FROM wsb_posts''')\n",
    "query_results = cur.fetchall()\n",
    "len(query_results)"
   ]
  },
  {
   "cell_type": "markdown",
   "id": "c6088061",
   "metadata": {},
   "source": [
    "## Write Results to CSV and Upload to S3"
   ]
  },
  {
   "cell_type": "code",
   "execution_count": 107,
   "id": "44a3193e",
   "metadata": {},
   "outputs": [],
   "source": [
    "fp = open('wsb_batch_2.csv', 'w', encoding=\"utf-8\")\n",
    "myFile = csv.writer(fp)\n",
    "myFile.writerows(query_results)\n",
    "fp.close()"
   ]
  },
  {
   "cell_type": "code",
   "execution_count": 108,
   "id": "04ea89a1",
   "metadata": {},
   "outputs": [],
   "source": [
    "# read contents of csv file\n",
    "file = pd.read_csv(\"wsb_batch_2.csv\")\n",
    "  \n",
    "# adding header\n",
    "headerList = [\"link\", \"title\", \"text\", \"author\", \"category\", \"n_comments\", \"upvotes\", \"upvote_ratio\", \"n_awards\", \"date\"]\n",
    "  \n",
    "# converting data frame to csv\n",
    "file.to_csv(\"wsb_batch_2.csv\", header=headerList, index=False)\n",
    "\n",
    "# convert data frame to parquet\n",
    "file.to_parquet(\"wsb_batch_2.parquet\",\n",
    "                engine=\"fastparquet\")"
   ]
  },
  {
   "cell_type": "markdown",
   "id": "7ff44f75",
   "metadata": {},
   "source": [
    "## Create S3 Bucket and Place CSV"
   ]
  },
  {
   "cell_type": "code",
   "execution_count": 110,
   "id": "bebc5f77",
   "metadata": {},
   "outputs": [],
   "source": [
    "# create S3 Bucket\n",
    "s3 = boto3.resource(\"s3\", region_name=\"us-east-1\")\n",
    "# Must use unique name\n",
    "# s3.create_bucket(Bucket=\"thiyaghessan-wsb\")"
   ]
  },
  {
   "cell_type": "code",
   "execution_count": 88,
   "id": "985a384c",
   "metadata": {},
   "outputs": [],
   "source": [
    "# put object\n",
    "bucket = 'thiyaghessan-wsb'\n",
    "filename = 'wsb_batch_2.csv'\n",
    "s3.meta.client.upload_file(Filename = filename, Bucket= bucket, Key = filename)"
   ]
  },
  {
   "cell_type": "code",
   "execution_count": 111,
   "id": "0658b0c6",
   "metadata": {},
   "outputs": [],
   "source": [
    "# upload parquet form\n",
    "bucket = 'thiyaghessan-wsb'\n",
    "filename = 'wsb_batch_2.parquet'\n",
    "s3.meta.client.upload_file(Filename = filename, Bucket= bucket, Key = filename)"
   ]
  },
  {
   "cell_type": "markdown",
   "id": "266d51d4",
   "metadata": {},
   "source": [
    "## Delete All Requested Resources"
   ]
  },
  {
   "cell_type": "code",
   "execution_count": 35,
   "id": "a7c66259",
   "metadata": {},
   "outputs": [
    {
     "name": "stdout",
     "output_type": "stream",
     "text": [
      "deleting\n",
      "RDS Database has been deleted\n"
     ]
    }
   ],
   "source": [
    "# delete resources\n",
    "# delete database\n",
    "response = rds.delete_db_instance(DBInstanceIdentifier='relational-db',\n",
    "                       SkipFinalSnapshot=True\n",
    "                      )\n",
    "print(response['DBInstance']['DBInstanceStatus'])\n",
    "\n",
    "# wait until DB is deleted before proceeding\n",
    "rds.get_waiter('db_instance_deleted').wait(DBInstanceIdentifier='relational-db')\n",
    "print(\"RDS Database has been deleted\")\n",
    "\n",
    "# Delete Lambda Function\n",
    "try:\n",
    "    aws_lambda.delete_function(FunctionName=\"wsb_lambda\")\n",
    "except:\n",
    "    print(\"Lambda function already deleted\")\n",
    "    \n",
    "# Delete Step Function\n",
    "try:\n",
    "    sfn.delete_state_machine(stateMachineArn=\"arn:aws:states:us-east-1:227666994724:stateMachine:wsb_sfn\")\n",
    "except:\n",
    "    print(\"Step Function Already deleted\")"
   ]
  }
 ],
 "metadata": {
  "kernelspec": {
   "display_name": "Python 3 (ipykernel)",
   "language": "python",
   "name": "python3"
  },
  "language_info": {
   "codemirror_mode": {
    "name": "ipython",
    "version": 3
   },
   "file_extension": ".py",
   "mimetype": "text/x-python",
   "name": "python",
   "nbconvert_exporter": "python",
   "pygments_lexer": "ipython3",
   "version": "3.8.12"
  }
 },
 "nbformat": 4,
 "nbformat_minor": 5
}
