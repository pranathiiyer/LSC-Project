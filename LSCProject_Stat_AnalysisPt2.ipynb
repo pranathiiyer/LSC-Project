{
 "cells": [
  {
   "cell_type": "markdown",
   "id": "10a76950",
   "metadata": {},
   "source": [
    "### Reading in data of post sentiment from an s3 bucket"
   ]
  },
  {
   "cell_type": "code",
   "execution_count": 2,
   "id": "a40008eb",
   "metadata": {},
   "outputs": [
    {
     "name": "stdout",
     "output_type": "stream",
     "text": [
      "          class         date\n",
      "0       neutral  2021-05-24 \n",
      "1       neutral  2021-05-24 \n",
      "2      positive  2021-05-24 \n",
      "3      negative  2021-05-24 \n",
      "4       neutral  2021-05-24 \n",
      "...         ...          ...\n",
      "10523   neutral  2022-05-28 \n",
      "10524   neutral  2022-05-28 \n",
      "10525   neutral  2022-05-28 \n",
      "10526   neutral  2022-05-28 \n",
      "10527   neutral  2022-05-28 \n",
      "\n",
      "[10528 rows x 2 columns]\n"
     ]
    }
   ],
   "source": [
    "import boto3\n",
    "import io\n",
    "import pandas as pd\n",
    "\n",
    "s3 = boto3.client('s3')\n",
    "s3_resource = boto3.resource('s3')\n",
    "bucket = s3_resource.Bucket('pranathi-sentiment')\n",
    "\n",
    "\n",
    "\n",
    "object_key = 'final_classification.csv'\n",
    "bucket_name = 'pranathi-sentiment'\n",
    "csv_obj = s3.get_object(Bucket=bucket_name, Key=object_key)\n",
    "body = csv_obj['Body']\n",
    "csv_string = body.read().decode('utf-8')\n",
    "\n",
    "df = pd.read_csv(io.StringIO(csv_string))\n",
    "print(df)"
   ]
  },
  {
   "cell_type": "markdown",
   "id": "1656e21c",
   "metadata": {},
   "source": [
    "### Transforming categorical data (sentiment)"
   ]
  },
  {
   "cell_type": "code",
   "execution_count": 3,
   "id": "a7c4429a",
   "metadata": {},
   "outputs": [],
   "source": [
    "def transform(x):\n",
    "    if x =='neutral':\n",
    "        return 0\n",
    "    elif x=='positive':\n",
    "        return 1\n",
    "    else:\n",
    "        return -1\n",
    "    "
   ]
  },
  {
   "cell_type": "code",
   "execution_count": 4,
   "id": "80aa2a14",
   "metadata": {},
   "outputs": [],
   "source": [
    "df['class'] = df['class'].apply(transform)\n",
    "final_df = df.groupby('date').mean()\n",
    "final_df.reset_index(inplace = True)"
   ]
  },
  {
   "cell_type": "markdown",
   "id": "ea3f73ce",
   "metadata": {},
   "source": [
    "### Reading in Historical S&P index data from an s3 bucket (for the same timeline as the scraped posts)"
   ]
  },
  {
   "cell_type": "code",
   "execution_count": 5,
   "id": "bd6cce06",
   "metadata": {},
   "outputs": [],
   "source": [
    "import boto3\n",
    "import io\n",
    "\n",
    "s3 = boto3.client('s3')\n",
    "s3_resource = boto3.resource('s3')\n",
    "bucket = s3_resource.Bucket('pranathi-sentiment')\n",
    "\n",
    "\n",
    "\n",
    "object_key = 'Historical_S&p.csv'\n",
    "bucket_name = 'pranathi-sentiment'\n",
    "csv_obj = s3.get_object(Bucket=bucket_name, Key=object_key)\n",
    "body = csv_obj['Body']\n",
    "csv_string = body.read().decode('utf-8')\n",
    "\n",
    "df_1 = pd.read_csv(io.StringIO(csv_string))\n",
    "df_1['change'] = (df_1['Close/Last'] - df_1['Open'])/df_1['Open']"
   ]
  },
  {
   "cell_type": "code",
   "execution_count": 6,
   "id": "c4e2cd6b",
   "metadata": {},
   "outputs": [],
   "source": [
    "import time\n",
    "#df['conv_date'] = df['Date'].apply(lambda x: time.strftime(\"%Y-%m-%d \", time.gmtime(x)))\n",
    "df_1['Date'] = pd.to_datetime(df_1['Date']).dt.strftime('%Y-%m-%d ') \n",
    "df_1.rename(columns = {'Date':'date'}, inplace = True)\n",
    "final_corr_df = pd.merge(final_df, df_1, how = 'inner', on = 'date')"
   ]
  },
  {
   "cell_type": "markdown",
   "id": "cb3f40d1",
   "metadata": {},
   "source": [
    "### Performing granger causality test on S&P index performance and the average sentiment of posts per day"
   ]
  },
  {
   "cell_type": "code",
   "execution_count": 8,
   "id": "4f0af517",
   "metadata": {},
   "outputs": [],
   "source": [
    "from statsmodels.tsa.stattools import grangercausalitytests"
   ]
  },
  {
   "cell_type": "code",
   "execution_count": 27,
   "id": "091a30b8",
   "metadata": {},
   "outputs": [
    {
     "name": "stdout",
     "output_type": "stream",
     "text": [
      "\n",
      "Granger Causality\n",
      "number of lags (no zero) 3\n",
      "ssr based F test:         F=0.6736  , p=0.5690  , df_denom=237, df_num=3\n",
      "ssr based chi2 test:   chi2=2.0806  , p=0.5558  , df=3\n",
      "likelihood ratio test: chi2=2.0718  , p=0.5576  , df=3\n",
      "parameter F test:         F=0.6736  , p=0.5690  , df_denom=237, df_num=3\n"
     ]
    },
    {
     "data": {
      "text/plain": [
       "{3: ({'ssr_ftest': (0.6736436634219433, 0.5689688173118932, 237.0, 3),\n",
       "   'ssr_chi2test': (2.080620935126002, 0.5558432182085462, 3),\n",
       "   'lrtest': (2.0718001757477396, 0.5576388127470482, 3),\n",
       "   'params_ftest': (0.6736436634219584, 0.5689688173118875, 237.0, 3.0)},\n",
       "  [<statsmodels.regression.linear_model.RegressionResultsWrapper at 0x7fede25f44c0>,\n",
       "   <statsmodels.regression.linear_model.RegressionResultsWrapper at 0x7fede25f4f10>,\n",
       "   array([[0., 0., 0., 1., 0., 0., 0.],\n",
       "          [0., 0., 0., 0., 1., 0., 0.],\n",
       "          [0., 0., 0., 0., 0., 1., 0.]])])}"
      ]
     },
     "execution_count": 27,
     "metadata": {},
     "output_type": "execute_result"
    }
   ],
   "source": [
    "grangercausalitytests(final_corr_df[['class', 'change']], maxlag=[3])"
   ]
  },
  {
   "cell_type": "code",
   "execution_count": 25,
   "id": "97a46606",
   "metadata": {},
   "outputs": [
    {
     "name": "stdout",
     "output_type": "stream",
     "text": [
      "\n",
      "Granger Causality\n",
      "number of lags (no zero) 3\n",
      "ssr based F test:         F=0.3474  , p=0.7911  , df_denom=237, df_num=3\n",
      "ssr based chi2 test:   chi2=1.0730  , p=0.7836  , df=3\n",
      "likelihood ratio test: chi2=1.0706  , p=0.7842  , df=3\n",
      "parameter F test:         F=0.3474  , p=0.7911  , df_denom=237, df_num=3\n"
     ]
    },
    {
     "data": {
      "text/plain": [
       "{3: ({'ssr_ftest': (0.34740529763178796, 0.7910615544027828, 237.0, 3),\n",
       "   'ssr_chi2test': (1.0729986407867882, 0.7835959894605385, 3),\n",
       "   'lrtest': (1.0706462599564475, 0.7841644964270014, 3),\n",
       "   'params_ftest': (0.34740529763177436, 0.7910615544027957, 237.0, 3.0)},\n",
       "  [<statsmodels.regression.linear_model.RegressionResultsWrapper at 0x7fede25f4c10>,\n",
       "   <statsmodels.regression.linear_model.RegressionResultsWrapper at 0x7fede25f47f0>,\n",
       "   array([[0., 0., 0., 1., 0., 0., 0.],\n",
       "          [0., 0., 0., 0., 1., 0., 0.],\n",
       "          [0., 0., 0., 0., 0., 1., 0.]])])}"
      ]
     },
     "execution_count": 25,
     "metadata": {},
     "output_type": "execute_result"
    }
   ],
   "source": [
    "grangercausalitytests(final_corr_df[['change', 'class']], maxlag=[3])"
   ]
  },
  {
   "cell_type": "code",
   "execution_count": 22,
   "id": "fcc44221",
   "metadata": {},
   "outputs": [
    {
     "name": "stdout",
     "output_type": "stream",
     "text": [
      "\n",
      "Granger Causality\n",
      "number of lags (no zero) 1\n",
      "ssr based F test:         F=4.4929  , p=0.0351  , df_denom=243, df_num=1\n",
      "ssr based chi2 test:   chi2=4.5483  , p=0.0330  , df=1\n",
      "likelihood ratio test: chi2=4.5068  , p=0.0338  , df=1\n",
      "parameter F test:         F=4.4929  , p=0.0351  , df_denom=243, df_num=1\n"
     ]
    },
    {
     "data": {
      "text/plain": [
       "{1: ({'ssr_ftest': (4.492854266511155, 0.035051018224726505, 243.0, 1),\n",
       "   'ssr_chi2test': (4.54832160313475, 0.03295103145340592, 1),\n",
       "   'lrtest': (4.506785583831743, 0.03376063007888898, 1),\n",
       "   'params_ftest': (4.492854266511122, 0.03505101822472738, 243.0, 1.0)},\n",
       "  [<statsmodels.regression.linear_model.RegressionResultsWrapper at 0x7fede25ea280>,\n",
       "   <statsmodels.regression.linear_model.RegressionResultsWrapper at 0x7fede25ea250>,\n",
       "   array([[0., 1., 0.]])])}"
      ]
     },
     "execution_count": 22,
     "metadata": {},
     "output_type": "execute_result"
    }
   ],
   "source": [
    "grangercausalitytests(final_corr_df[['class', 'Close/Last']], maxlag=[1])"
   ]
  },
  {
   "cell_type": "code",
   "execution_count": 28,
   "id": "f5b32939",
   "metadata": {},
   "outputs": [
    {
     "name": "stdout",
     "output_type": "stream",
     "text": [
      "\n",
      "Granger Causality\n",
      "number of lags (no zero) 3\n",
      "ssr based F test:         F=1.8438  , p=0.1399  , df_denom=237, df_num=3\n",
      "ssr based chi2 test:   chi2=5.6949  , p=0.1274  , df=3\n",
      "likelihood ratio test: chi2=5.6295  , p=0.1311  , df=3\n",
      "parameter F test:         F=1.8438  , p=0.1399  , df_denom=237, df_num=3\n"
     ]
    },
    {
     "data": {
      "text/plain": [
       "{3: ({'ssr_ftest': (1.8438389714675345, 0.13987319469917028, 237.0, 3),\n",
       "   'ssr_chi2test': (5.694895051114917, 0.1274354571538159, 3),\n",
       "   'lrtest': (5.629452698972045, 0.13109769932162563, 3),\n",
       "   'params_ftest': (1.8438389714674843, 0.13987319469918022, 237.0, 3.0)},\n",
       "  [<statsmodels.regression.linear_model.RegressionResultsWrapper at 0x7fede25f4370>,\n",
       "   <statsmodels.regression.linear_model.RegressionResultsWrapper at 0x7fede25f4250>,\n",
       "   array([[0., 0., 0., 1., 0., 0., 0.],\n",
       "          [0., 0., 0., 0., 1., 0., 0.],\n",
       "          [0., 0., 0., 0., 0., 1., 0.]])])}"
      ]
     },
     "execution_count": 28,
     "metadata": {},
     "output_type": "execute_result"
    }
   ],
   "source": [
    "grangercausalitytests(final_corr_df[['class', 'Close/Last']], maxlag=[3])"
   ]
  },
  {
   "cell_type": "code",
   "execution_count": 23,
   "id": "a868a59a",
   "metadata": {},
   "outputs": [
    {
     "name": "stdout",
     "output_type": "stream",
     "text": [
      "\n",
      "Granger Causality\n",
      "number of lags (no zero) 1\n",
      "ssr based F test:         F=0.7411  , p=0.3902  , df_denom=243, df_num=1\n",
      "ssr based chi2 test:   chi2=0.7503  , p=0.3864  , df=1\n",
      "likelihood ratio test: chi2=0.7491  , p=0.3868  , df=1\n",
      "parameter F test:         F=0.7411  , p=0.3902  , df_denom=243, df_num=1\n"
     ]
    },
    {
     "data": {
      "text/plain": [
       "{1: ({'ssr_ftest': (0.741109895932386, 0.39015418750858133, 243.0, 1),\n",
       "   'ssr_chi2test': (0.7502594008204401, 0.3863941153663569, 1),\n",
       "   'lrtest': (0.7491176380140132, 0.38675573565356447, 1),\n",
       "   'params_ftest': (0.7411098959319826, 0.39015418750871145, 243.0, 1.0)},\n",
       "  [<statsmodels.regression.linear_model.RegressionResultsWrapper at 0x7fede25eac40>,\n",
       "   <statsmodels.regression.linear_model.RegressionResultsWrapper at 0x7fede25f4c40>,\n",
       "   array([[0., 1., 0.]])])}"
      ]
     },
     "execution_count": 23,
     "metadata": {},
     "output_type": "execute_result"
    }
   ],
   "source": [
    "grangercausalitytests(final_corr_df[['Close/Last', 'class']], maxlag=[1])"
   ]
  },
  {
   "cell_type": "code",
   "execution_count": null,
   "id": "bef508ba",
   "metadata": {},
   "outputs": [],
   "source": []
  }
 ],
 "metadata": {
  "kernelspec": {
   "display_name": "Python 3 (ipykernel)",
   "language": "python",
   "name": "python3"
  },
  "language_info": {
   "codemirror_mode": {
    "name": "ipython",
    "version": 3
   },
   "file_extension": ".py",
   "mimetype": "text/x-python",
   "name": "python",
   "nbconvert_exporter": "python",
   "pygments_lexer": "ipython3",
   "version": "3.9.12"
  }
 },
 "nbformat": 4,
 "nbformat_minor": 5
}
