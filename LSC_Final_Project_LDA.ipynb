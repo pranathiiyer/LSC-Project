{
 "cells": [
  {
   "cell_type": "markdown",
   "id": "41281419",
   "metadata": {},
   "source": [
    "# LDA Topic Modelling of r/wallstreetbets Posts"
   ]
  },
  {
   "cell_type": "markdown",
   "id": "13d1e66a",
   "metadata": {},
   "source": [
    "The below code was adapted from https://github.com/maobedkova/TopicModelling_PySpark_SparkNLP/blob/master/Topic_Modelling_with_PySpark_and_Spark_NLP.ipynb"
   ]
  },
  {
   "cell_type": "markdown",
   "id": "43d4521a",
   "metadata": {},
   "source": [
    "## Step 1: Install and Import Packages"
   ]
  },
  {
   "cell_type": "code",
   "execution_count": 2,
   "id": "56ea69d1-30e3-47fa-9425-2b2409995fcf",
   "metadata": {
    "execution": {
     "iopub.execute_input": "2022-06-03T02:34:58.276157Z",
     "iopub.status.busy": "2022-06-03T02:34:58.275932Z",
     "iopub.status.idle": "2022-06-03T02:35:41.122488Z",
     "shell.execute_reply": "2022-06-03T02:35:41.121604Z",
     "shell.execute_reply.started": "2022-06-03T02:34:58.276133Z"
    },
    "tags": []
   },
   "outputs": [
    {
     "data": {
      "application/vnd.jupyter.widget-view+json": {
       "model_id": "58e8a6897d8b40bfb19cb98a15e9467b",
       "version_major": 2,
       "version_minor": 0
      },
      "text/plain": [
       "VBox()"
      ]
     },
     "metadata": {},
     "output_type": "display_data"
    },
    {
     "data": {
      "application/vnd.jupyter.widget-view+json": {
       "model_id": "",
       "version_major": 2,
       "version_minor": 0
      },
      "text/plain": [
       "FloatProgress(value=0.0, bar_style='info', description='Progress:', layout=Layout(height='25px', width='50%'),…"
      ]
     },
     "metadata": {},
     "output_type": "display_data"
    },
    {
     "name": "stdout",
     "output_type": "stream",
     "text": [
      "Collecting boto3==1.23.10\n",
      "  Downloading https://files.pythonhosted.org/packages/75/ca/d917b244919f1ebf96f7bbd5a00e4641f7e9191b0d070258f5dc10f5eaad/boto3-1.23.10-py3-none-any.whl (132kB)\n",
      "Collecting s3transfer<0.6.0,>=0.5.0 (from boto3==1.23.10)\n",
      "  Downloading https://files.pythonhosted.org/packages/7b/9c/f51775ebe7df5a7aa4e7c79ed671bde94e154bd968aca8d65bb24aba0c8c/s3transfer-0.5.2-py3-none-any.whl (79kB)\n",
      "Requirement already satisfied: jmespath<2.0.0,>=0.7.1 in /usr/local/lib/python3.7/site-packages (from boto3==1.23.10)\n",
      "Collecting botocore<1.27.0,>=1.26.10 (from boto3==1.23.10)\n",
      "  Downloading https://files.pythonhosted.org/packages/09/b8/794e0bd260198538ded90c26b353ddb632eab01950d4e7e2e2b8ee510d12/botocore-1.26.10-py3-none-any.whl (8.8MB)\n",
      "Requirement already satisfied: urllib3<1.27,>=1.25.4 in /usr/local/lib/python3.7/site-packages (from botocore<1.27.0,>=1.26.10->boto3==1.23.10)\n",
      "Requirement already satisfied: python-dateutil<3.0.0,>=2.1 in /usr/local/lib/python3.7/site-packages (from botocore<1.27.0,>=1.26.10->boto3==1.23.10)\n",
      "Requirement already satisfied: six>=1.5 in /usr/local/lib/python3.7/site-packages (from python-dateutil<3.0.0,>=2.1->botocore<1.27.0,>=1.26.10->boto3==1.23.10)\n",
      "Installing collected packages: botocore, s3transfer, boto3\n",
      "  Found existing installation: botocore 1.27.2\n",
      "    Not uninstalling botocore at /usr/local/lib/python3.7/site-packages, outside environment /tmp/1654223709646-0\n",
      "  Found existing installation: s3transfer 0.6.0\n",
      "    Not uninstalling s3transfer at /usr/local/lib/python3.7/site-packages, outside environment /tmp/1654223709646-0\n",
      "Successfully installed boto3-1.23.10 botocore-1.26.10 s3transfer-0.5.2\n",
      "\n",
      "Collecting pandas==1.0.3\n",
      "  Downloading https://files.pythonhosted.org/packages/4a/6a/94b219b8ea0f2d580169e85ed1edc0163743f55aaeca8a44c2e8fc1e344e/pandas-1.0.3-cp37-cp37m-manylinux1_x86_64.whl (10.0MB)\n",
      "Requirement already satisfied: pytz>=2017.2 in /usr/local/lib/python3.7/site-packages (from pandas==1.0.3)\n",
      "Requirement already satisfied: numpy>=1.13.3 in /usr/local/lib64/python3.7/site-packages (from pandas==1.0.3)\n",
      "Requirement already satisfied: python-dateutil>=2.6.1 in /usr/local/lib/python3.7/site-packages (from pandas==1.0.3)\n",
      "Requirement already satisfied: six>=1.5 in /usr/local/lib/python3.7/site-packages (from python-dateutil>=2.6.1->pandas==1.0.3)\n",
      "Installing collected packages: pandas\n",
      "Successfully installed pandas-1.0.3\n",
      "\n",
      "Requirement already satisfied: nltk in /usr/local/lib/python3.7/site-packages\n",
      "Requirement already satisfied: click in /usr/local/lib64/python3.7/site-packages (from nltk)\n",
      "Requirement already satisfied: joblib in /usr/local/lib64/python3.7/site-packages (from nltk)\n",
      "Requirement already satisfied: regex in /usr/local/lib64/python3.7/site-packages (from nltk)\n",
      "Requirement already satisfied: tqdm in /usr/local/lib64/python3.7/site-packages (from nltk)"
     ]
    }
   ],
   "source": [
    "sc.install_pypi_package(\"boto3==1.23.10\")\n",
    "sc.install_pypi_package(\"pandas==1.0.3\")\n",
    "sc.install_pypi_package(\"nltk\")"
   ]
  },
  {
   "cell_type": "code",
   "execution_count": 3,
   "id": "817ab047-4619-47fd-88d7-e9dbe8500372",
   "metadata": {
    "execution": {
     "iopub.execute_input": "2022-06-03T02:39:25.965840Z",
     "iopub.status.busy": "2022-06-03T02:39:25.965614Z",
     "iopub.status.idle": "2022-06-03T02:39:27.245767Z",
     "shell.execute_reply": "2022-06-03T02:39:27.245202Z",
     "shell.execute_reply.started": "2022-06-03T02:39:25.965815Z"
    }
   },
   "outputs": [
    {
     "data": {
      "application/vnd.jupyter.widget-view+json": {
       "model_id": "abe62439efe240e0928459b8465ed343",
       "version_major": 2,
       "version_minor": 0
      },
      "text/plain": [
       "VBox()"
      ]
     },
     "metadata": {},
     "output_type": "display_data"
    },
    {
     "data": {
      "application/vnd.jupyter.widget-view+json": {
       "model_id": "",
       "version_major": 2,
       "version_minor": 0
      },
      "text/plain": [
       "FloatProgress(value=0.0, bar_style='info', description='Progress:', layout=Layout(height='25px', width='50%'),…"
      ]
     },
     "metadata": {},
     "output_type": "display_data"
    }
   ],
   "source": [
    "from pyspark.ml import Pipeline, PipelineModel\n",
    "from pyspark.sql.functions import *\n",
    "from pyspark.sql import SparkSession\n",
    "from pyspark.sql.types import StructType, StructField, IntegerType, StringType\n",
    "import sparknlp\n",
    "from sparknlp.pretrained import PretrainedPipeline\n",
    "from sparknlp.annotator import *\n",
    "from sparknlp.common import RegexRule\n",
    "from sparknlp.base import *\n",
    "import boto3\n",
    "import io\n",
    "import pandas as pd\n",
    "import pyspark.sql.functions as f\n",
    "from sparknlp.base import DocumentAssembler\n",
    "from sparknlp.annotator import Tokenizer\n",
    "from sparknlp.annotator import Normalizer\n",
    "from sparknlp.annotator import LemmatizerModel\n",
    "from sparknlp.annotator import StopWordsCleaner\n",
    "from sparknlp.annotator import NGramGenerator\n",
    "from sparknlp.annotator import PerceptronModel\n",
    "from sparknlp.base import Finisher\n",
    "import nltk\n",
    "from nltk.corpus import stopwords\n",
    "from pyspark.sql import types as t\n",
    "from pyspark.sql.functions import concat\n",
    "from pyspark.ml.feature import CountVectorizer\n",
    "from pyspark.ml.feature import IDF\n",
    "from pyspark.ml.clustering import LDA"
   ]
  },
  {
   "cell_type": "markdown",
   "id": "b8175381",
   "metadata": {},
   "source": [
    "## Step 2: Read Data and Perform Regex Operations"
   ]
  },
  {
   "cell_type": "code",
   "execution_count": 22,
   "id": "7c16dbf1-4313-4bcc-8dbf-b9de606894e9",
   "metadata": {
    "execution": {
     "iopub.execute_input": "2022-06-03T02:47:13.612441Z",
     "iopub.status.busy": "2022-06-03T02:47:13.612207Z",
     "iopub.status.idle": "2022-06-03T02:47:24.927736Z",
     "shell.execute_reply": "2022-06-03T02:47:24.927159Z",
     "shell.execute_reply.started": "2022-06-03T02:47:13.612415Z"
    },
    "tags": []
   },
   "outputs": [
    {
     "data": {
      "application/vnd.jupyter.widget-view+json": {
       "model_id": "f57a8dcc855b4188b4fda1003497a4ef",
       "version_major": 2,
       "version_minor": 0
      },
      "text/plain": [
       "VBox()"
      ]
     },
     "metadata": {},
     "output_type": "display_data"
    },
    {
     "data": {
      "application/vnd.jupyter.widget-view+json": {
       "model_id": "",
       "version_major": 2,
       "version_minor": 0
      },
      "text/plain": [
       "FloatProgress(value=0.0, bar_style='info', description='Progress:', layout=Layout(height='25px', width='50%'),…"
      ]
     },
     "metadata": {},
     "output_type": "display_data"
    }
   ],
   "source": [
    "data = spark.read.csv(\"s3://thiyaghessan-wsb/wsb_batch_2.csv\",\n",
    "                      header = True,\n",
    "                      multiLine=True)\n",
    "data = data[[\"text\"]]"
   ]
  },
  {
   "cell_type": "code",
   "execution_count": 23,
   "id": "240261ad-2acc-4d2b-86e4-15d4352ec1a6",
   "metadata": {
    "execution": {
     "iopub.execute_input": "2022-06-03T02:47:29.552906Z",
     "iopub.status.busy": "2022-06-03T02:47:29.552682Z",
     "iopub.status.idle": "2022-06-03T02:47:29.817307Z",
     "shell.execute_reply": "2022-06-03T02:47:29.816680Z",
     "shell.execute_reply.started": "2022-06-03T02:47:29.552880Z"
    },
    "tags": []
   },
   "outputs": [
    {
     "data": {
      "application/vnd.jupyter.widget-view+json": {
       "model_id": "35c6b1c84aaf48b690e755579d7061ae",
       "version_major": 2,
       "version_minor": 0
      },
      "text/plain": [
       "VBox()"
      ]
     },
     "metadata": {},
     "output_type": "display_data"
    },
    {
     "data": {
      "application/vnd.jupyter.widget-view+json": {
       "model_id": "",
       "version_major": 2,
       "version_minor": 0
      },
      "text/plain": [
       "FloatProgress(value=0.0, bar_style='info', description='Progress:', layout=Layout(height='25px', width='50%'),…"
      ]
     },
     "metadata": {},
     "output_type": "display_data"
    }
   ],
   "source": [
    "# Remove unneccessary symbols and characters\n",
    "data = data.withColumn('text',f.regexp_replace('text', r\"http\\S+\", '')) \\\n",
    "           .withColumn('text',f.regexp_replace('text', r\"[^a-zA-Z0-9]+\", ' ')) \\\n",
    "           .withColumn('text',f.regexp_replace('text', r\"@[^\\s]+\", '')) \\\n",
    "           .withColumn('text',f.regexp_replace('text', r\"^\\d+\\s|\\s\\d+\\s|\\s\\d+$\", ' ')) \\\n",
    "           .withColumn('text',f.regexp_replace('text', r\"\\s+[a-zA-Z]\\s+\", '')) \\\n",
    "           .withColumn('text',f.regexp_replace('text', r\"\\s+\", ' '))"
   ]
  },
  {
   "cell_type": "code",
   "execution_count": 24,
   "id": "5afccc92-108a-4872-a13b-d488ad4dc615",
   "metadata": {
    "execution": {
     "iopub.execute_input": "2022-06-03T02:47:31.644661Z",
     "iopub.status.busy": "2022-06-03T02:47:31.644438Z",
     "iopub.status.idle": "2022-06-03T02:47:32.932639Z",
     "shell.execute_reply": "2022-06-03T02:47:32.931897Z",
     "shell.execute_reply.started": "2022-06-03T02:47:31.644636Z"
    },
    "tags": []
   },
   "outputs": [
    {
     "data": {
      "application/vnd.jupyter.widget-view+json": {
       "model_id": "cea06289a69a4f2d8a1cb04fa2f78023",
       "version_major": 2,
       "version_minor": 0
      },
      "text/plain": [
       "VBox()"
      ]
     },
     "metadata": {},
     "output_type": "display_data"
    },
    {
     "data": {
      "application/vnd.jupyter.widget-view+json": {
       "model_id": "",
       "version_major": 2,
       "version_minor": 0
      },
      "text/plain": [
       "FloatProgress(value=0.0, bar_style='info', description='Progress:', layout=Layout(height='25px', width='50%'),…"
      ]
     },
     "metadata": {},
     "output_type": "display_data"
    },
    {
     "name": "stdout",
     "output_type": "stream",
     "text": [
      "+--------------------+\n",
      "|                text|\n",
      "+--------------------+\n",
      "|I donusually shar...|\n",
      "| Historical Post ...|\n",
      "|Been buying this ...|\n",
      "|What do you guys ...|\n",
      "|Elon Musk played ...|\n",
      "|I ll keep this br...|\n",
      "|Icurrently using ...|\n",
      "|Get em all boys a...|\n",
      "|I can probably on...|\n",
      "|Not invested befo...|\n",
      "|Taylor Morrison H...|\n",
      "| If you agree pos...|\n",
      "|My boyfriend has ...|\n",
      "|          amp x200B |\n",
      "|Ascent Solar Tech...|\n",
      "|Helloknow that so...|\n",
      "|I got this becaus...|\n",
      "|Material needed b...|\n",
      "| Never thoughtd s...|\n",
      "|Why risking with ...|\n",
      "+--------------------+\n",
      "only showing top 20 rows"
     ]
    }
   ],
   "source": [
    "data.show()"
   ]
  },
  {
   "cell_type": "markdown",
   "id": "1cf69437",
   "metadata": {},
   "source": [
    "# Step 3: Pre-processing Pipeline"
   ]
  },
  {
   "cell_type": "code",
   "execution_count": 25,
   "id": "0bc59254-907d-4120-b3eb-747a253aad62",
   "metadata": {
    "execution": {
     "iopub.execute_input": "2022-06-03T02:48:06.087139Z",
     "iopub.status.busy": "2022-06-03T02:48:06.086915Z",
     "iopub.status.idle": "2022-06-03T02:48:06.141878Z",
     "shell.execute_reply": "2022-06-03T02:48:06.141298Z",
     "shell.execute_reply.started": "2022-06-03T02:48:06.087115Z"
    },
    "tags": []
   },
   "outputs": [
    {
     "data": {
      "application/vnd.jupyter.widget-view+json": {
       "model_id": "710b66ed41914ab195ff5f8ee25ab8d0",
       "version_major": 2,
       "version_minor": 0
      },
      "text/plain": [
       "VBox()"
      ]
     },
     "metadata": {},
     "output_type": "display_data"
    },
    {
     "data": {
      "application/vnd.jupyter.widget-view+json": {
       "model_id": "",
       "version_major": 2,
       "version_minor": 0
      },
      "text/plain": [
       "FloatProgress(value=0.0, bar_style='info', description='Progress:', layout=Layout(height='25px', width='50%'),…"
      ]
     },
     "metadata": {},
     "output_type": "display_data"
    }
   ],
   "source": [
    "eng_stopwords = [\"amp\", \"xb\", \"yesfiller\", \"text\", \"i\", \"me\", \"my\", \"myself\", \"we\", \"our\", \"ours\", \"ourselves\", \"you\", \"your\", \"yours\", \"yourself\", \"yourselves\", \"he\", \"him\", \"his\", \"himself\", \"she\", \"her\", \"hers\", \"herself\", \"it\", \"its\", \"itself\", \"they\", \"them\", \"their\", \"theirs\", \"themselves\", \"what\", \"which\", \"who\", \"whom\", \"this\", \"that\", \"these\", \"those\", \"am\", \"is\", \"are\", \"was\", \"were\", \"be\", \"been\", \"being\", \"have\", \"has\", \"had\", \"having\", \"do\", \"does\", \"did\", \"doing\", \"a\", \"an\", \"the\", \"and\", \"but\", \"if\", \"or\", \"because\", \"as\", \"until\", \"while\", \"of\", \"at\", \"by\", \"for\", \"with\", \"about\", \"against\", \"between\", \"into\", \"through\", \"during\", \"before\", \"after\", \"above\", \"below\", \"to\", \"from\", \"up\", \"down\", \"in\", \"out\", \"on\", \"off\", \"over\", \"under\", \"again\", \"further\", \"then\", \"once\", \"here\", \"there\", \"when\", \"where\", \"why\", \"how\", \"all\", \"any\", \"both\", \"each\", \"few\", \"more\", \"most\", \"other\", \"some\", \"such\", \"no\", \"nor\", \"not\", \"only\", \"own\", \"same\", \"so\", \"than\", \"too\", \"very\", \"s\", \"t\", \"can\", \"will\", \"just\", \"don\", \"should\", \"now\"]"
   ]
  },
  {
   "cell_type": "markdown",
   "id": "1bc16e1d",
   "metadata": {},
   "source": [
    "In this pipeline I lemmatize, remove stopwards, create unigrams and trigrams, and perform POS tagging. I use a pre-trained neural network to identify POS tags."
   ]
  },
  {
   "cell_type": "code",
   "execution_count": 45,
   "id": "205bba48-2db1-41ec-a640-70f4da5bdd52",
   "metadata": {
    "execution": {
     "iopub.execute_input": "2022-06-03T02:56:26.070946Z",
     "iopub.status.busy": "2022-06-03T02:56:26.070714Z",
     "iopub.status.idle": "2022-06-03T02:56:33.373988Z",
     "shell.execute_reply": "2022-06-03T02:56:33.373247Z",
     "shell.execute_reply.started": "2022-06-03T02:56:26.070918Z"
    },
    "tags": []
   },
   "outputs": [
    {
     "data": {
      "application/vnd.jupyter.widget-view+json": {
       "model_id": "e5512ff36c49436c9875b0537142c3a2",
       "version_major": 2,
       "version_minor": 0
      },
      "text/plain": [
       "VBox()"
      ]
     },
     "metadata": {},
     "output_type": "display_data"
    },
    {
     "data": {
      "application/vnd.jupyter.widget-view+json": {
       "model_id": "",
       "version_major": 2,
       "version_minor": 0
      },
      "text/plain": [
       "FloatProgress(value=0.0, bar_style='info', description='Progress:', layout=Layout(height='25px', width='50%'),…"
      ]
     },
     "metadata": {},
     "output_type": "display_data"
    },
    {
     "name": "stdout",
     "output_type": "stream",
     "text": [
      "lemma_antbnc download started this may take some time.\n",
      "Approximate size to download 907.6 KB\n",
      "[OK!]\n",
      "pos_anc download started this may take some time.\n",
      "Approximate size to download 3.9 MB\n",
      "[OK!]"
     ]
    }
   ],
   "source": [
    "# First round of pre-processing\n",
    "documentAssembler = DocumentAssembler() \\\n",
    "     .setInputCol(\"text\") \\\n",
    "     .setOutputCol('document')\n",
    "tokenizer = Tokenizer() \\\n",
    "     .setInputCols(['document']) \\\n",
    "     .setOutputCol('tokenized')\n",
    "normalizer = Normalizer() \\\n",
    "     .setInputCols(['tokenized']) \\\n",
    "     .setOutputCol('normalized') \\\n",
    "     .setLowercase(True)\n",
    "lemmatizer = LemmatizerModel.pretrained() \\\n",
    "     .setInputCols(['normalized']) \\\n",
    "     .setOutputCol('lemmatized')\n",
    "stopwords_cleaner = StopWordsCleaner() \\\n",
    "     .setInputCols(['lemmatized']) \\\n",
    "     .setOutputCol('unigrams') \\\n",
    "     .setStopWords(eng_stopwords)\n",
    "ngrammer = NGramGenerator() \\\n",
    "    .setInputCols(['unigrams']) \\\n",
    "    .setOutputCol('ngrams') \\\n",
    "    .setN(3) \\\n",
    "    .setEnableCumulative(True) \\\n",
    "    .setDelimiter('_')\n",
    "pos_tagger = PerceptronModel.pretrained('pos_anc') \\\n",
    "    .setInputCols(['document', 'unigrams']) \\\n",
    "    .setOutputCol('pos')\n",
    "finisher = Finisher() \\\n",
    "     .setInputCols(['unigrams', 'ngrams', 'pos'])\n",
    "pipeline = Pipeline() \\\n",
    "     .setStages([documentAssembler,                  \n",
    "                 tokenizer,\n",
    "                 normalizer,                  \n",
    "                 lemmatizer,                  \n",
    "                 stopwords_cleaner, \n",
    "                 pos_tagger,\n",
    "                 ngrammer,  \n",
    "                 finisher])"
   ]
  },
  {
   "cell_type": "code",
   "execution_count": 46,
   "id": "605cf8c4-3b37-4fba-80cb-91048a6e6809",
   "metadata": {
    "execution": {
     "iopub.execute_input": "2022-06-03T02:56:35.334620Z",
     "iopub.status.busy": "2022-06-03T02:56:35.334283Z",
     "iopub.status.idle": "2022-06-03T02:56:36.111225Z",
     "shell.execute_reply": "2022-06-03T02:56:36.110510Z",
     "shell.execute_reply.started": "2022-06-03T02:56:35.334576Z"
    },
    "tags": []
   },
   "outputs": [
    {
     "data": {
      "application/vnd.jupyter.widget-view+json": {
       "model_id": "8ac35aae3b364bf381e7025049b84074",
       "version_major": 2,
       "version_minor": 0
      },
      "text/plain": [
       "VBox()"
      ]
     },
     "metadata": {},
     "output_type": "display_data"
    },
    {
     "data": {
      "application/vnd.jupyter.widget-view+json": {
       "model_id": "",
       "version_major": 2,
       "version_minor": 0
      },
      "text/plain": [
       "FloatProgress(value=0.0, bar_style='info', description='Progress:', layout=Layout(height='25px', width='50%'),…"
      ]
     },
     "metadata": {},
     "output_type": "display_data"
    }
   ],
   "source": [
    "processed_data = pipeline.fit(data).transform(data)"
   ]
  },
  {
   "cell_type": "code",
   "execution_count": 47,
   "id": "ef1132d9-b3d2-42db-b056-4b49c011c499",
   "metadata": {
    "execution": {
     "iopub.execute_input": "2022-06-03T02:56:38.868394Z",
     "iopub.status.busy": "2022-06-03T02:56:38.868168Z",
     "iopub.status.idle": "2022-06-03T02:56:52.174583Z",
     "shell.execute_reply": "2022-06-03T02:56:52.173819Z",
     "shell.execute_reply.started": "2022-06-03T02:56:38.868370Z"
    },
    "tags": []
   },
   "outputs": [
    {
     "data": {
      "application/vnd.jupyter.widget-view+json": {
       "model_id": "aa3bf17e1a4c40f5917dd93511b522a2",
       "version_major": 2,
       "version_minor": 0
      },
      "text/plain": [
       "VBox()"
      ]
     },
     "metadata": {},
     "output_type": "display_data"
    },
    {
     "data": {
      "application/vnd.jupyter.widget-view+json": {
       "model_id": "",
       "version_major": 2,
       "version_minor": 0
      },
      "text/plain": [
       "FloatProgress(value=0.0, bar_style='info', description='Progress:', layout=Layout(height='25px', width='50%'),…"
      ]
     },
     "metadata": {},
     "output_type": "display_data"
    },
    {
     "name": "stdout",
     "output_type": "stream",
     "text": [
      "+--------------------+--------------------+--------------------+--------------------+\n",
      "|                text|   finished_unigrams|     finished_ngrams|        finished_pos|\n",
      "+--------------------+--------------------+--------------------+--------------------+\n",
      "|I donusually shar...|[donusually, shar...|[donusually, shar...|[RB, NN, JJ, NN, ...|\n",
      "| Historical Post ...|[historical, post...|[historical, post...|[JJ, NN, NNS, VBP...|\n",
      "|Been buying this ...|[buy, thing, ever...|[buy, thing, ever...|[VB, NN, RB, IN, ...|\n",
      "|What do you guys ...|[guy, think, ptn,...|[guy, think, ptn,...|[NN, VBP, NN, NN,...|\n",
      "|Elon Musk played ...|[elon, musk, play...|[elon, musk, play...|[NN, NN, NN, NN, ...|\n",
      "+--------------------+--------------------+--------------------+--------------------+\n",
      "only showing top 5 rows"
     ]
    }
   ],
   "source": [
    "processed_data.show(5)"
   ]
  },
  {
   "cell_type": "markdown",
   "id": "0421b184",
   "metadata": {},
   "source": [
    "I then join all pos tags together to identify POS trigrams"
   ]
  },
  {
   "cell_type": "code",
   "execution_count": 48,
   "id": "9ab104a6-db81-4a29-81fa-f40c25e420cf",
   "metadata": {
    "execution": {
     "iopub.execute_input": "2022-06-03T02:57:26.614707Z",
     "iopub.status.busy": "2022-06-03T02:57:26.614452Z",
     "iopub.status.idle": "2022-06-03T02:57:26.880889Z",
     "shell.execute_reply": "2022-06-03T02:57:26.880264Z",
     "shell.execute_reply.started": "2022-06-03T02:57:26.614680Z"
    },
    "tags": []
   },
   "outputs": [
    {
     "data": {
      "application/vnd.jupyter.widget-view+json": {
       "model_id": "c094c66e2e6e41b9b9059b85b04ddd90",
       "version_major": 2,
       "version_minor": 0
      },
      "text/plain": [
       "VBox()"
      ]
     },
     "metadata": {},
     "output_type": "display_data"
    },
    {
     "data": {
      "application/vnd.jupyter.widget-view+json": {
       "model_id": "",
       "version_major": 2,
       "version_minor": 0
      },
      "text/plain": [
       "FloatProgress(value=0.0, bar_style='info', description='Progress:', layout=Layout(height='25px', width='50%'),…"
      ]
     },
     "metadata": {},
     "output_type": "display_data"
    }
   ],
   "source": [
    "pos_joiner = f.udf(lambda x: ' '.join(x), t.StringType())\n",
    "processed_data  = processed_data.withColumn('finished_pos', pos_joiner(f.col('finished_pos')))"
   ]
  },
  {
   "cell_type": "markdown",
   "id": "6a40ec80",
   "metadata": {},
   "source": [
    "## Step 4: Pre-Processing Pipeline 2"
   ]
  },
  {
   "cell_type": "markdown",
   "id": "d83fdcb1",
   "metadata": {},
   "source": [
    "In this pipeline, I identify POS trigrams to have a better sense of sentence structure."
   ]
  },
  {
   "cell_type": "code",
   "execution_count": 49,
   "id": "4cf8591b-061a-42d5-9a95-4e10b6a3a561",
   "metadata": {
    "execution": {
     "iopub.execute_input": "2022-06-03T02:57:28.360410Z",
     "iopub.status.busy": "2022-06-03T02:57:28.360160Z",
     "iopub.status.idle": "2022-06-03T02:57:28.616593Z",
     "shell.execute_reply": "2022-06-03T02:57:28.615876Z",
     "shell.execute_reply.started": "2022-06-03T02:57:28.360382Z"
    },
    "tags": []
   },
   "outputs": [
    {
     "data": {
      "application/vnd.jupyter.widget-view+json": {
       "model_id": "3def3dfa31004b2c98a26e8e8818655b",
       "version_major": 2,
       "version_minor": 0
      },
      "text/plain": [
       "VBox()"
      ]
     },
     "metadata": {},
     "output_type": "display_data"
    },
    {
     "data": {
      "application/vnd.jupyter.widget-view+json": {
       "model_id": "",
       "version_major": 2,
       "version_minor": 0
      },
      "text/plain": [
       "FloatProgress(value=0.0, bar_style='info', description='Progress:', layout=Layout(height='25px', width='50%'),…"
      ]
     },
     "metadata": {},
     "output_type": "display_data"
    }
   ],
   "source": [
    "pos_documentAssembler = DocumentAssembler() \\\n",
    "     .setInputCol('finished_pos') \\\n",
    "     .setOutputCol('pos_document')\n",
    "pos_tokenizer = Tokenizer() \\\n",
    "     .setInputCols(['pos_document']) \\\n",
    "     .setOutputCol('pos')\n",
    "pos_ngrammer = NGramGenerator() \\\n",
    "    .setInputCols(['pos']) \\\n",
    "    .setOutputCol('pos_ngrams') \\\n",
    "    .setN(3) \\\n",
    "    .setEnableCumulative(True) \\\n",
    "    .setDelimiter('_')\n",
    "pos_finisher = Finisher() \\\n",
    "     .setInputCols(['pos', 'pos_ngrams'])\n",
    "pos_pipeline = Pipeline() \\\n",
    "     .setStages([pos_documentAssembler,                  \n",
    "                 pos_tokenizer,\n",
    "                 pos_ngrammer,  \n",
    "                 pos_finisher])"
   ]
  },
  {
   "cell_type": "code",
   "execution_count": 50,
   "id": "ebe2c77a-311f-4215-b2ff-bea902cbf15c",
   "metadata": {
    "execution": {
     "iopub.execute_input": "2022-06-03T02:57:31.535032Z",
     "iopub.status.busy": "2022-06-03T02:57:31.534805Z",
     "iopub.status.idle": "2022-06-03T02:57:31.797631Z",
     "shell.execute_reply": "2022-06-03T02:57:31.797020Z",
     "shell.execute_reply.started": "2022-06-03T02:57:31.535006Z"
    },
    "tags": []
   },
   "outputs": [
    {
     "data": {
      "application/vnd.jupyter.widget-view+json": {
       "model_id": "0fc10cd492d547baabe91e1dec54b659",
       "version_major": 2,
       "version_minor": 0
      },
      "text/plain": [
       "VBox()"
      ]
     },
     "metadata": {},
     "output_type": "display_data"
    },
    {
     "data": {
      "application/vnd.jupyter.widget-view+json": {
       "model_id": "",
       "version_major": 2,
       "version_minor": 0
      },
      "text/plain": [
       "FloatProgress(value=0.0, bar_style='info', description='Progress:', layout=Layout(height='25px', width='50%'),…"
      ]
     },
     "metadata": {},
     "output_type": "display_data"
    }
   ],
   "source": [
    "pos_processed_data = pos_pipeline.fit(processed_data).transform(processed_data)"
   ]
  },
  {
   "cell_type": "code",
   "execution_count": 51,
   "id": "955a0d28-b4c4-4f3d-8deb-b91f4f29dfb6",
   "metadata": {
    "execution": {
     "iopub.execute_input": "2022-06-03T02:57:35.143651Z",
     "iopub.status.busy": "2022-06-03T02:57:35.143336Z",
     "iopub.status.idle": "2022-06-03T02:57:52.487020Z",
     "shell.execute_reply": "2022-06-03T02:57:52.486160Z",
     "shell.execute_reply.started": "2022-06-03T02:57:35.143614Z"
    },
    "tags": []
   },
   "outputs": [
    {
     "data": {
      "application/vnd.jupyter.widget-view+json": {
       "model_id": "187cdff4becd45f2b83361ef13941c85",
       "version_major": 2,
       "version_minor": 0
      },
      "text/plain": [
       "VBox()"
      ]
     },
     "metadata": {},
     "output_type": "display_data"
    },
    {
     "data": {
      "application/vnd.jupyter.widget-view+json": {
       "model_id": "",
       "version_major": 2,
       "version_minor": 0
      },
      "text/plain": [
       "FloatProgress(value=0.0, bar_style='info', description='Progress:', layout=Layout(height='25px', width='50%'),…"
      ]
     },
     "metadata": {},
     "output_type": "display_data"
    },
    {
     "name": "stdout",
     "output_type": "stream",
     "text": [
      "+--------------------+--------------------+--------------------+--------------------+--------------------+\n",
      "|                text|   finished_unigrams|     finished_ngrams|        finished_pos| finished_pos_ngrams|\n",
      "+--------------------+--------------------+--------------------+--------------------+--------------------+\n",
      "|I donusually shar...|[donusually, shar...|[donusually, shar...|[RB, NN, JJ, NN, ...|[RB, NN, JJ, NN, ...|\n",
      "| Historical Post ...|[historical, post...|[historical, post...|[JJ, NN, NNS, VBP...|[JJ, NN, NNS, VBP...|\n",
      "|Been buying this ...|[buy, thing, ever...|[buy, thing, ever...|[VB, NN, RB, IN, ...|[VB, NN, RB, IN, ...|\n",
      "|What do you guys ...|[guy, think, ptn,...|[guy, think, ptn,...|[NN, VBP, NN, NN,...|[NN, VBP, NN, NN,...|\n",
      "|Elon Musk played ...|[elon, musk, play...|[elon, musk, play...|[NN, NN, NN, NN, ...|[NN, NN, NN, NN, ...|\n",
      "+--------------------+--------------------+--------------------+--------------------+--------------------+\n",
      "only showing top 5 rows"
     ]
    }
   ],
   "source": [
    "pos_processed_data.show(5)"
   ]
  },
  {
   "cell_type": "markdown",
   "id": "37fe94b3",
   "metadata": {},
   "source": [
    "I then filter out uninformaive POS tags and POS combinations"
   ]
  },
  {
   "cell_type": "code",
   "execution_count": 52,
   "id": "a6b14b40-c967-4bfe-beb2-1df2a2cd1b4b",
   "metadata": {
    "execution": {
     "iopub.execute_input": "2022-06-03T02:57:54.848434Z",
     "iopub.status.busy": "2022-06-03T02:57:54.848205Z",
     "iopub.status.idle": "2022-06-03T02:57:54.903433Z",
     "shell.execute_reply": "2022-06-03T02:57:54.902784Z",
     "shell.execute_reply.started": "2022-06-03T02:57:54.848409Z"
    },
    "tags": []
   },
   "outputs": [
    {
     "data": {
      "application/vnd.jupyter.widget-view+json": {
       "model_id": "042dfaaf3dbc43e3b979ac9a10d3d993",
       "version_major": 2,
       "version_minor": 0
      },
      "text/plain": [
       "VBox()"
      ]
     },
     "metadata": {},
     "output_type": "display_data"
    },
    {
     "data": {
      "application/vnd.jupyter.widget-view+json": {
       "model_id": "",
       "version_major": 2,
       "version_minor": 0
      },
      "text/plain": [
       "FloatProgress(value=0.0, bar_style='info', description='Progress:', layout=Layout(height='25px', width='50%'),…"
      ]
     },
     "metadata": {},
     "output_type": "display_data"
    }
   ],
   "source": [
    "# only select relevant individual POS tags\n",
    "def filter_pos(words, pos_tags):\n",
    "    return [word for word, pos in zip(words, pos_tags) \n",
    "            if pos in ['JJ', 'NN', 'NNS', 'VB', 'VBP']]\n",
    "\n",
    "remove_pos = f.udf(filter_pos, t.ArrayType(t.StringType()))"
   ]
  },
  {
   "cell_type": "code",
   "execution_count": 53,
   "id": "1fd411c2-7ec5-4ed5-af83-fa047bde06cf",
   "metadata": {
    "execution": {
     "iopub.execute_input": "2022-06-03T02:57:56.758832Z",
     "iopub.status.busy": "2022-06-03T02:57:56.758601Z",
     "iopub.status.idle": "2022-06-03T02:57:57.014656Z",
     "shell.execute_reply": "2022-06-03T02:57:57.013980Z",
     "shell.execute_reply.started": "2022-06-03T02:57:56.758806Z"
    },
    "tags": []
   },
   "outputs": [
    {
     "data": {
      "application/vnd.jupyter.widget-view+json": {
       "model_id": "86dc0988971c4516971232383e65581a",
       "version_major": 2,
       "version_minor": 0
      },
      "text/plain": [
       "VBox()"
      ]
     },
     "metadata": {},
     "output_type": "display_data"
    },
    {
     "data": {
      "application/vnd.jupyter.widget-view+json": {
       "model_id": "",
       "version_major": 2,
       "version_minor": 0
      },
      "text/plain": [
       "FloatProgress(value=0.0, bar_style='info', description='Progress:', layout=Layout(height='25px', width='50%'),…"
      ]
     },
     "metadata": {},
     "output_type": "display_data"
    }
   ],
   "source": [
    "pos_processed_data = pos_processed_data.withColumn('filtered_unigrams',\n",
    "                                                    remove_pos(f.col('finished_unigrams'), \n",
    "                                                               f.col('finished_pos')))"
   ]
  },
  {
   "cell_type": "code",
   "execution_count": 54,
   "id": "2de01918-9925-4e09-bfe2-871f4185db20",
   "metadata": {
    "execution": {
     "iopub.execute_input": "2022-06-03T02:57:58.811232Z",
     "iopub.status.busy": "2022-06-03T02:57:58.810992Z",
     "iopub.status.idle": "2022-06-03T02:57:58.869003Z",
     "shell.execute_reply": "2022-06-03T02:57:58.868435Z",
     "shell.execute_reply.started": "2022-06-03T02:57:58.811206Z"
    },
    "tags": []
   },
   "outputs": [
    {
     "data": {
      "application/vnd.jupyter.widget-view+json": {
       "model_id": "a2133ad8bb2349e78b2519ca90907cc4",
       "version_major": 2,
       "version_minor": 0
      },
      "text/plain": [
       "VBox()"
      ]
     },
     "metadata": {},
     "output_type": "display_data"
    },
    {
     "data": {
      "application/vnd.jupyter.widget-view+json": {
       "model_id": "",
       "version_major": 2,
       "version_minor": 0
      },
      "text/plain": [
       "FloatProgress(value=0.0, bar_style='info', description='Progress:', layout=Layout(height='25px', width='50%'),…"
      ]
     },
     "metadata": {},
     "output_type": "display_data"
    }
   ],
   "source": [
    "# only select informative POS tag combinations\n",
    "def filter_pos_combs(words, pos_tags):\n",
    "    return [word for word, pos in zip(words, pos_tags) \n",
    "            if (len(pos.split('_')) == 2 and \\\n",
    "                pos.split('_')[0] in ['JJ', 'NN', 'NNS', 'VB', 'VBP'] and \\\n",
    "                 pos.split('_')[1] in ['JJ', 'NN', 'NNS']) \\\n",
    "            or (len(pos.split('_')) == 3 and \\\n",
    "                pos.split('_')[0] in ['JJ', 'NN', 'NNS', 'VB', 'VBP'] and \\\n",
    "                 pos.split('_')[1] in ['JJ', 'NN', 'NNS', 'VB', 'VBP'] and \\\n",
    "                  pos.split('_')[2] in ['NN', 'NNS'])]\n",
    "    \n",
    "remove_pos_combs = f.udf(filter_pos_combs, t.ArrayType(t.StringType()))"
   ]
  },
  {
   "cell_type": "code",
   "execution_count": 55,
   "id": "83cc9dc1-588d-440e-a95b-21014c9e704c",
   "metadata": {
    "execution": {
     "iopub.execute_input": "2022-06-03T02:57:59.304186Z",
     "iopub.status.busy": "2022-06-03T02:57:59.303962Z",
     "iopub.status.idle": "2022-06-03T02:57:59.557211Z",
     "shell.execute_reply": "2022-06-03T02:57:59.556448Z",
     "shell.execute_reply.started": "2022-06-03T02:57:59.304161Z"
    },
    "tags": []
   },
   "outputs": [
    {
     "data": {
      "application/vnd.jupyter.widget-view+json": {
       "model_id": "e9282e6561fd4206a2ade822c310c292",
       "version_major": 2,
       "version_minor": 0
      },
      "text/plain": [
       "VBox()"
      ]
     },
     "metadata": {},
     "output_type": "display_data"
    },
    {
     "data": {
      "application/vnd.jupyter.widget-view+json": {
       "model_id": "",
       "version_major": 2,
       "version_minor": 0
      },
      "text/plain": [
       "FloatProgress(value=0.0, bar_style='info', description='Progress:', layout=Layout(height='25px', width='50%'),…"
      ]
     },
     "metadata": {},
     "output_type": "display_data"
    }
   ],
   "source": [
    "pos_processed_data = pos_processed_data.withColumn('filtered_ngrams',\n",
    "                                                   remove_pos_combs(f.col('finished_ngrams'),\n",
    "                                                                    f.col('finished_pos_ngrams')))"
   ]
  },
  {
   "cell_type": "code",
   "execution_count": 56,
   "id": "fec45fb1-cf2e-4357-9179-de02fdcb8042",
   "metadata": {
    "execution": {
     "iopub.execute_input": "2022-06-03T02:58:00.720947Z",
     "iopub.status.busy": "2022-06-03T02:58:00.720714Z",
     "iopub.status.idle": "2022-06-03T02:58:00.996316Z",
     "shell.execute_reply": "2022-06-03T02:58:00.995570Z",
     "shell.execute_reply.started": "2022-06-03T02:58:00.720920Z"
    },
    "tags": []
   },
   "outputs": [
    {
     "data": {
      "application/vnd.jupyter.widget-view+json": {
       "model_id": "d059a57a158c41ad903eee865ccf0aae",
       "version_major": 2,
       "version_minor": 0
      },
      "text/plain": [
       "VBox()"
      ]
     },
     "metadata": {},
     "output_type": "display_data"
    },
    {
     "data": {
      "application/vnd.jupyter.widget-view+json": {
       "model_id": "",
       "version_major": 2,
       "version_minor": 0
      },
      "text/plain": [
       "FloatProgress(value=0.0, bar_style='info', description='Progress:', layout=Layout(height='25px', width='50%'),…"
      ]
     },
     "metadata": {},
     "output_type": "display_data"
    }
   ],
   "source": [
    "pos_processed_data = pos_processed_data.withColumn('final', \n",
    "                                                   concat(f.col('filtered_unigrams'), \n",
    "                                                          f.col('filtered_ngrams')))"
   ]
  },
  {
   "cell_type": "markdown",
   "id": "3582e843",
   "metadata": {},
   "source": [
    "## Step 5: Tf-Idf Vectorization and Topic Modelling"
   ]
  },
  {
   "cell_type": "code",
   "execution_count": 57,
   "id": "a9e8f039-279f-4f83-ba65-295d29c7f7b9",
   "metadata": {
    "execution": {
     "iopub.execute_input": "2022-06-03T02:58:00.997992Z",
     "iopub.status.busy": "2022-06-03T02:58:00.997592Z",
     "iopub.status.idle": "2022-06-03T02:58:01.299815Z",
     "shell.execute_reply": "2022-06-03T02:58:01.299016Z",
     "shell.execute_reply.started": "2022-06-03T02:58:00.997951Z"
    },
    "tags": []
   },
   "outputs": [
    {
     "data": {
      "application/vnd.jupyter.widget-view+json": {
       "model_id": "2b8493468d7b487fbb73e388f9ad86e7",
       "version_major": 2,
       "version_minor": 0
      },
      "text/plain": [
       "VBox()"
      ]
     },
     "metadata": {},
     "output_type": "display_data"
    },
    {
     "data": {
      "application/vnd.jupyter.widget-view+json": {
       "model_id": "",
       "version_major": 2,
       "version_minor": 0
      },
      "text/plain": [
       "FloatProgress(value=0.0, bar_style='info', description='Progress:', layout=Layout(height='25px', width='50%'),…"
      ]
     },
     "metadata": {},
     "output_type": "display_data"
    }
   ],
   "source": [
    "tfizer = CountVectorizer(inputCol='final',\n",
    "                         outputCol='tf_features')\n",
    "idfizer = IDF(inputCol='tf_features',\n",
    "              outputCol='tf_idf_features')\n",
    "tfidf_pipeline = Pipeline() \\\n",
    "     .setStages([tfizer,\n",
    "                 idfizer])"
   ]
  },
  {
   "cell_type": "code",
   "execution_count": 58,
   "id": "6008530d-a6ee-4efa-b83f-135caf66a7c2",
   "metadata": {
    "execution": {
     "iopub.execute_input": "2022-06-03T02:58:05.418202Z",
     "iopub.status.busy": "2022-06-03T02:58:05.417952Z",
     "iopub.status.idle": "2022-06-03T02:59:26.926322Z",
     "shell.execute_reply": "2022-06-03T02:59:26.925520Z",
     "shell.execute_reply.started": "2022-06-03T02:58:05.418175Z"
    },
    "tags": []
   },
   "outputs": [
    {
     "data": {
      "application/vnd.jupyter.widget-view+json": {
       "model_id": "6ac87809bdc84e70b3eca12792ca2435",
       "version_major": 2,
       "version_minor": 0
      },
      "text/plain": [
       "VBox()"
      ]
     },
     "metadata": {},
     "output_type": "display_data"
    },
    {
     "data": {
      "application/vnd.jupyter.widget-view+json": {
       "model_id": "",
       "version_major": 2,
       "version_minor": 0
      },
      "text/plain": [
       "FloatProgress(value=0.0, bar_style='info', description='Progress:', layout=Layout(height='25px', width='50%'),…"
      ]
     },
     "metadata": {},
     "output_type": "display_data"
    }
   ],
   "source": [
    "tfidf_processed_data = tfidf_pipeline.fit(pos_processed_data).transform(pos_processed_data)"
   ]
  },
  {
   "cell_type": "code",
   "execution_count": 59,
   "id": "91661ffe-4e63-4baa-828d-eca8a7161e31",
   "metadata": {
    "execution": {
     "iopub.execute_input": "2022-06-03T02:59:35.482911Z",
     "iopub.status.busy": "2022-06-03T02:59:35.482667Z",
     "iopub.status.idle": "2022-06-03T02:59:38.768639Z",
     "shell.execute_reply": "2022-06-03T02:59:38.767948Z",
     "shell.execute_reply.started": "2022-06-03T02:59:35.482885Z"
    },
    "tags": []
   },
   "outputs": [
    {
     "data": {
      "application/vnd.jupyter.widget-view+json": {
       "model_id": "1f206b5b1dc3463d979f733f58790a89",
       "version_major": 2,
       "version_minor": 0
      },
      "text/plain": [
       "VBox()"
      ]
     },
     "metadata": {},
     "output_type": "display_data"
    },
    {
     "data": {
      "application/vnd.jupyter.widget-view+json": {
       "model_id": "",
       "version_major": 2,
       "version_minor": 0
      },
      "text/plain": [
       "FloatProgress(value=0.0, bar_style='info', description='Progress:', layout=Layout(height='25px', width='50%'),…"
      ]
     },
     "metadata": {},
     "output_type": "display_data"
    },
    {
     "name": "stdout",
     "output_type": "stream",
     "text": [
      "+--------------------+--------------------+--------------------+--------------------+--------------------+--------------------+--------------------+--------------------+--------------------+--------------------+\n",
      "|                text|   finished_unigrams|     finished_ngrams|        finished_pos| finished_pos_ngrams|   filtered_unigrams|     filtered_ngrams|               final|         tf_features|     tf_idf_features|\n",
      "+--------------------+--------------------+--------------------+--------------------+--------------------+--------------------+--------------------+--------------------+--------------------+--------------------+\n",
      "|I donusually shar...|[donusually, shar...|[donusually, shar...|[RB, NN, JJ, NN, ...|[RB, NN, JJ, NN, ...|[share, secret, w...|[share_secret, se...|[share, secret, w...|(262144,[0,4,8,10...|(262144,[0,4,8,10...|\n",
      "| Historical Post ...|[historical, post...|[historical, post...|[JJ, NN, NNS, VBP...|[JJ, NN, NNS, VBP...|[historical, post...|[historical_post,...|[historical, post...|(262144,[0,2,4,5,...|(262144,[0,2,4,5,...|\n",
      "|Been buying this ...|[buy, thing, ever...|[buy, thing, ever...|[VB, NN, RB, IN, ...|[VB, NN, RB, IN, ...|[buy, thing, impl...|[buy_thing, implo...|[buy, thing, impl...|(262144,[7,10,16,...|(262144,[7,10,16,...|\n",
      "|What do you guys ...|[guy, think, ptn,...|[guy, think, ptn,...|[NN, VBP, NN, NN,...|[NN, VBP, NN, NN,...|[guy, think, ptn,...|[think_ptn, ptn_t...|[guy, think, ptn,...|(262144,[6,28,79,...|(262144,[6,28,79,...|\n",
      "|Elon Musk played ...|[elon, musk, play...|[elon, musk, play...|[NN, NN, NN, NN, ...|[NN, NN, NN, NN, ...|[elon, musk, play...|[elon_musk, musk_...|[elon, musk, play...|(262144,[7,12,23,...|(262144,[7,12,23,...|\n",
      "+--------------------+--------------------+--------------------+--------------------+--------------------+--------------------+--------------------+--------------------+--------------------+--------------------+\n",
      "only showing top 5 rows"
     ]
    }
   ],
   "source": [
    "tfidf_processed_data.show(5)"
   ]
  },
  {
   "cell_type": "code",
   "execution_count": 60,
   "id": "c9e4c69c-90db-41e3-afaa-ff278c54d564",
   "metadata": {
    "execution": {
     "iopub.execute_input": "2022-06-03T02:59:39.640139Z",
     "iopub.status.busy": "2022-06-03T02:59:39.639916Z",
     "iopub.status.idle": "2022-06-03T03:01:07.200641Z",
     "shell.execute_reply": "2022-06-03T03:01:07.199899Z",
     "shell.execute_reply.started": "2022-06-03T02:59:39.640114Z"
    },
    "tags": []
   },
   "outputs": [
    {
     "data": {
      "application/vnd.jupyter.widget-view+json": {
       "model_id": "7ecfe392e2754597bc56ccd78c028561",
       "version_major": 2,
       "version_minor": 0
      },
      "text/plain": [
       "VBox()"
      ]
     },
     "metadata": {},
     "output_type": "display_data"
    },
    {
     "data": {
      "application/vnd.jupyter.widget-view+json": {
       "model_id": "",
       "version_major": 2,
       "version_minor": 0
      },
      "text/plain": [
       "FloatProgress(value=0.0, bar_style='info', description='Progress:', layout=Layout(height='25px', width='50%'),…"
      ]
     },
     "metadata": {},
     "output_type": "display_data"
    }
   ],
   "source": [
    "# Fit topic model for 10 topics\n",
    "lda = LDA(k = 10,\n",
    "          maxIter = 10,\n",
    "          featuresCol='tf_idf_features')\n",
    "lda_model = lda.fit(tfidf_processed_data)"
   ]
  },
  {
   "cell_type": "markdown",
   "id": "0dd7bb12",
   "metadata": {},
   "source": [
    "## Step 6: View Words Most Strongly Associated with each Topic"
   ]
  },
  {
   "cell_type": "code",
   "execution_count": 61,
   "id": "e5abfc95-518b-4e9d-a129-22ff21e624ff",
   "metadata": {
    "execution": {
     "iopub.execute_input": "2022-06-03T03:01:33.532641Z",
     "iopub.status.busy": "2022-06-03T03:01:33.532406Z",
     "iopub.status.idle": "2022-06-03T03:02:30.974886Z",
     "shell.execute_reply": "2022-06-03T03:02:30.974167Z",
     "shell.execute_reply.started": "2022-06-03T03:01:33.532615Z"
    },
    "tags": []
   },
   "outputs": [
    {
     "data": {
      "application/vnd.jupyter.widget-view+json": {
       "model_id": "12316ee6ddb54c98bdbc82915a3aed3d",
       "version_major": 2,
       "version_minor": 0
      },
      "text/plain": [
       "VBox()"
      ]
     },
     "metadata": {},
     "output_type": "display_data"
    },
    {
     "data": {
      "application/vnd.jupyter.widget-view+json": {
       "model_id": "",
       "version_major": 2,
       "version_minor": 0
      },
      "text/plain": [
       "FloatProgress(value=0.0, bar_style='info', description='Progress:', layout=Layout(height='25px', width='50%'),…"
      ]
     },
     "metadata": {},
     "output_type": "display_data"
    }
   ],
   "source": [
    "tf_model = tfizer.fit(pos_processed_data)\n",
    "vocab = tf_model.vocabulary"
   ]
  },
  {
   "cell_type": "code",
   "execution_count": 62,
   "id": "895a3b9b-831d-400e-8315-55e93e1bd6a7",
   "metadata": {
    "execution": {
     "iopub.execute_input": "2022-06-03T03:02:49.439228Z",
     "iopub.status.busy": "2022-06-03T03:02:49.438987Z",
     "iopub.status.idle": "2022-06-03T03:02:49.487731Z",
     "shell.execute_reply": "2022-06-03T03:02:49.487175Z",
     "shell.execute_reply.started": "2022-06-03T03:02:49.439200Z"
    },
    "tags": []
   },
   "outputs": [
    {
     "data": {
      "application/vnd.jupyter.widget-view+json": {
       "model_id": "013f296a826d4a7aa77d5a9553c22e62",
       "version_major": 2,
       "version_minor": 0
      },
      "text/plain": [
       "VBox()"
      ]
     },
     "metadata": {},
     "output_type": "display_data"
    },
    {
     "data": {
      "application/vnd.jupyter.widget-view+json": {
       "model_id": "",
       "version_major": 2,
       "version_minor": 0
      },
      "text/plain": [
       "FloatProgress(value=0.0, bar_style='info', description='Progress:', layout=Layout(height='25px', width='50%'),…"
      ]
     },
     "metadata": {},
     "output_type": "display_data"
    }
   ],
   "source": [
    "def get_words(token_list):\n",
    "     return [vocab[token_id] for token_id in token_list]\n",
    "       \n",
    "get_words = f.udf(get_words, t.ArrayType(t.StringType()))"
   ]
  },
  {
   "cell_type": "code",
   "execution_count": 63,
   "id": "806432e3-9616-4997-a4e0-e527a46e999f",
   "metadata": {
    "execution": {
     "iopub.execute_input": "2022-06-03T03:02:49.981819Z",
     "iopub.status.busy": "2022-06-03T03:02:49.981580Z",
     "iopub.status.idle": "2022-06-03T03:02:55.261801Z",
     "shell.execute_reply": "2022-06-03T03:02:55.261088Z",
     "shell.execute_reply.started": "2022-06-03T03:02:49.981792Z"
    },
    "tags": []
   },
   "outputs": [
    {
     "data": {
      "application/vnd.jupyter.widget-view+json": {
       "model_id": "98df681028ee4f0baa5bcba9394eb2dc",
       "version_major": 2,
       "version_minor": 0
      },
      "text/plain": [
       "VBox()"
      ]
     },
     "metadata": {},
     "output_type": "display_data"
    },
    {
     "data": {
      "application/vnd.jupyter.widget-view+json": {
       "model_id": "",
       "version_major": 2,
       "version_minor": 0
      },
      "text/plain": [
       "FloatProgress(value=0.0, bar_style='info', description='Progress:', layout=Layout(height='25px', width='50%'),…"
      ]
     },
     "metadata": {},
     "output_type": "display_data"
    },
    {
     "name": "stdout",
     "output_type": "stream",
     "text": [
      "+-----+------------------------------------------------------------------------------------------+\n",
      "|topic|                                                                                topicWords|\n",
      "+-----+------------------------------------------------------------------------------------------+\n",
      "|    0|                        [remove, share, market, stock, go, company, price, short, m, year]|\n",
      "|    1|                          [buy, price, stock, money, company, make, get, go, year, option]|\n",
      "|    2|                    [price, oil, gt_click, week, resistance, trade, ema, stock, spy, prev]|\n",
      "|    3|[discussion, notify, fund_gt, expect_ipo, share_nasdaq, go_public_expect, expect_ipo_da...|\n",
      "|    4|                                   [zim, east, apt, coast, salt, bark, meme, eur, gt, teu]|\n",
      "|    5|                     [vaccine, clinical, y, option, market, stock, look, health, k, think]|\n",
      "|    6|                       [elon, stem, anybody, buy, uranium, shib, inc, stock, buy_buy, get]|\n",
      "|    7|                        [wave, stock, share, buy, image, upst, webull, user, trade, price]|\n",
      "|    8|[blackberry, ivy, blackberry_ivy, fda, gme_gme_gme, gme_gme, sava, battery, gme_buy, tr...|\n",
      "|    9|    [payment, lidar, company, revenue, paysafe, twitter, service, code, process, solution]|\n",
      "+-----+------------------------------------------------------------------------------------------+"
     ]
    }
   ],
   "source": [
    "num_top_words = 10\n",
    "\n",
    "topics = lda_model.describeTopics(num_top_words).withColumn('topicWords', get_words(f.col('termIndices')))\n",
    "topics.select('topic', 'topicWords').show(truncate=90)"
   ]
  },
  {
   "cell_type": "code",
   "execution_count": null,
   "id": "741bee82-0949-41d3-9e7f-8f7876fb6352",
   "metadata": {},
   "outputs": [],
   "source": []
  }
 ],
 "metadata": {
  "kernelspec": {
   "display_name": "Python 3 (ipykernel)",
   "language": "python",
   "name": "python3"
  },
  "language_info": {
   "codemirror_mode": {
    "name": "ipython",
    "version": 3
   },
   "file_extension": ".py",
   "mimetype": "text/x-python",
   "name": "python",
   "nbconvert_exporter": "python",
   "pygments_lexer": "ipython3",
   "version": "3.8.12"
  }
 },
 "nbformat": 4,
 "nbformat_minor": 5
}
